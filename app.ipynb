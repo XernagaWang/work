{
 "cells": [
  {
   "cell_type": "code",
   "execution_count": null,
   "metadata": {},
   "outputs": [],
   "source": [
    "import pandas as pd \n",
    "import os"
   ]
  },
  {
   "cell_type": "code",
   "execution_count": null,
   "metadata": {},
   "outputs": [],
   "source": [
    "path = 'new_concat_v2'\n",
    "file_list = os.listdir(path)\n",
    "print('一共 %d 個文件' %(len(file_list)))"
   ]
  },
  {
   "cell_type": "code",
   "execution_count": null,
   "metadata": {},
   "outputs": [],
   "source": [
    "data_list = []\n",
    "\n",
    "for file in file_list:\n",
    "    data = pd.read_excel( path + \"/\" + file, sheet_name= 'Sheet1')\n",
    "    data['SOURCE'] = file[:-5]\n",
    "    data_list.append(data)"
   ]
  },
  {
   "cell_type": "code",
   "execution_count": null,
   "metadata": {},
   "outputs": [],
   "source": [
    "df = pd.concat(data_list, axis= 0)\n",
    "print(df.shape[0])\n",
    "df.head()"
   ]
  },
  {
   "cell_type": "code",
   "execution_count": null,
   "metadata": {},
   "outputs": [],
   "source": [
    "one_solid =  df['多媒体配置_后排液晶屏幕'] == '●'\n",
    "\n",
    "\n",
    "df['多媒体配置_后排液晶屏幕_實心'] = ''\n",
    "df.loc[one_solid, '多媒体配置_后排液晶屏幕_實心'] = 6\n",
    "\n",
    "df[['多媒体配置_后排液晶屏幕', '多媒体配置_后排液晶屏幕_實心']]"
   ]
  },
  {
   "cell_type": "code",
   "execution_count": null,
   "metadata": {},
   "outputs": [],
   "source": [
    "# col1, col2 =  '多媒体配置_中控屏幕尺寸', '内部配置_液晶仪表尺寸'\t\n",
    "\n",
    "# df['多媒体配置_中控屏幕尺寸'].str.extract(r'(\\d+\\.?\\d*)').values"
   ]
  },
  {
   "cell_type": "code",
   "execution_count": null,
   "metadata": {},
   "outputs": [],
   "source": [
    "df['多媒体配置_中控屏幕尺寸'] = df['多媒体配置_中控屏幕尺寸'].fillna('A')\n",
    "df.loc[df['多媒体配置_中控屏幕尺寸'] == 0, '多媒体配置_中控屏幕尺寸'] = 'A'\n",
    "df.loc[df['多媒体配置_中控屏幕尺寸'] == '0',  '多媒体配置_中控屏幕尺寸'] = 'A'\n",
    "\n",
    "\n",
    "one_solid = (((df['多媒体配置_中控屏幕尺寸'].str.count('●')) == 1) & ~(df['多媒体配置_中控屏幕尺寸'].str.contains('○')))\n",
    "two_solid = (((df['多媒体配置_中控屏幕尺寸'].str.count('●')) == 2) & ~(df['多媒体配置_中控屏幕尺寸'].str.contains('○')))\n",
    "\n",
    "solid_hollow = ((df['多媒体配置_中控屏幕尺寸'].str.startswith('●')) & (df['多媒体配置_中控屏幕尺寸'].str.contains('○')))\n",
    "hollow_solid = ((df['多媒体配置_中控屏幕尺寸'].str.startswith('○')) & (df['多媒体配置_中控屏幕尺寸'].str.contains('●')))\n",
    "\n",
    "\n",
    "one_hollow = (((df['多媒体配置_中控屏幕尺寸'].str.count('○')) == 1) & ~(df['多媒体配置_中控屏幕尺寸'].str.contains('●')))\n",
    "two_hollow = (((df['多媒体配置_中控屏幕尺寸'].str.count('○')) == 2) & ~(df['多媒体配置_中控屏幕尺寸'].str.contains('●')))\n",
    "\n",
    "solid_double = df['多媒体配置_中控屏幕尺寸'].str.contains('●双') \n",
    "hollow_double = df['多媒体配置_中控屏幕尺寸'].str.contains('○双') \n",
    "\n",
    "df['多媒体配置_中控屏幕尺寸_实心1'] = ''\n",
    "df['多媒体配置_中控屏幕尺寸_实心2'] = ''\n",
    "df['多媒体配置_中控屏幕尺寸_实心3'] = ''\n",
    "df['多媒体配置_中控屏幕尺寸_空心1'] = ''\n",
    "df['多媒体配置_中控屏幕尺寸_空心2'] = ''\n",
    "\n",
    "df.loc[one_solid, '多媒体配置_中控屏幕尺寸_实心1'] = df.loc[one_solid]['多媒体配置_中控屏幕尺寸'].str.extract(r'(\\d+\\.?\\d*)').values\n",
    "\n",
    "df.loc[two_solid, '多媒体配置_中控屏幕尺寸_实心1'] = df.loc[two_solid]['多媒体配置_中控屏幕尺寸'].str.split('●', expand= True)[1].str.extract(r'(\\d+\\.?\\d*)').values\n",
    "df.loc[two_solid, '多媒体配置_中控屏幕尺寸_实心2'] = df.loc[two_solid]['多媒体配置_中控屏幕尺寸'].str.split('●', expand= True)[2].str.extract(r'(\\d+\\.?\\d*)').values\n",
    "\n",
    "df.loc[solid_hollow, '多媒体配置_中控屏幕尺寸_实心1'] = df.loc[solid_hollow]['多媒体配置_中控屏幕尺寸'].str.split('○', expand= True)[0].str.extract(r'(\\d+\\.?\\d*)').values\n",
    "df.loc[solid_hollow, '多媒体配置_中控屏幕尺寸_空心1'] = df.loc[solid_hollow]['多媒体配置_中控屏幕尺寸'].str.split('○', expand= True)[1].str.extract(r'(\\d+\\.?\\d*)').values\n",
    "\n",
    "df.loc[hollow_solid, '多媒体配置_中控屏幕尺寸_空心1'] = df.loc[hollow_solid]['多媒体配置_中控屏幕尺寸'].str.split('●', expand= True)[0].str.extract(r'(\\d+\\.?\\d*)').values\n",
    "df.loc[hollow_solid, '多媒体配置_中控屏幕尺寸_实心1'] = df.loc[hollow_solid]['多媒体配置_中控屏幕尺寸'].str.split('●', expand= True)[1].str.extract(r'(\\d+\\.?\\d*)').values\n",
    "\n",
    "df.loc[one_hollow, '多媒体配置_中控屏幕尺寸_空心1'] = df.loc[one_hollow]['多媒体配置_中控屏幕尺寸'].str.extract(r'(\\d+\\.?\\d*)').values\n",
    "\n",
    "df.loc[two_hollow, '多媒体配置_中控屏幕尺寸_空心1'] = df.loc[two_hollow]['多媒体配置_中控屏幕尺寸'].str.split('○', expand= True)[1].str.extract(r'(\\d+\\.?\\d*)').values\n",
    "df.loc[two_hollow, '多媒体配置_中控屏幕尺寸_空心2'] = df.loc[two_hollow]['多媒体配置_中控屏幕尺寸'].str.split('○', expand= True)[2].str.extract(r'(\\d+\\.?\\d*)').values\n",
    "\n",
    "\n",
    "df.loc[solid_double, '多媒体配置_中控屏幕尺寸_实心1'] = df.loc[solid_double]['多媒体配置_中控屏幕尺寸'].str.split('英寸', expand= True)[0].str.extract(r'(\\d+\\.?\\d*)').values\n",
    "df.loc[solid_double, '多媒体配置_中控屏幕尺寸_实心2'] = df.loc[solid_double]['多媒体配置_中控屏幕尺寸'].str.split('英寸', expand= True)[0].str.extract(r'(\\d+\\.?\\d*)').values\n",
    "df.loc[solid_double, '多媒体配置_中控屏幕尺寸_实心3'] = df.loc[solid_double]['多媒体配置_中控屏幕尺寸'].str.split('英寸', expand= True)[1].str.extract(r'(\\d+\\.?\\d*)').values\n",
    "\n",
    "df.loc[hollow_double, '多媒体配置_中控屏幕尺寸_空心1'] = df.loc[hollow_double]['多媒体配置_中控屏幕尺寸'].str.split('英寸', expand= True)[1].str.extract(r'(\\d+\\.?\\d*)').values\n",
    "df.loc[hollow_double, '多媒体配置_中控屏幕尺寸_空心2'] = df.loc[hollow_double]['多媒体配置_中控屏幕尺寸'].str.split('英寸', expand= True)[1].str.extract(r'(\\d+\\.?\\d*)').values"
   ]
  },
  {
   "cell_type": "code",
   "execution_count": null,
   "metadata": {},
   "outputs": [],
   "source": [
    "# df[['多媒体配置_中控屏幕尺寸', '多媒体配置_中控屏幕尺寸_实心1', '多媒体配置_中控屏幕尺寸_实心2']]\n",
    "# df.loc[hollow_solid]['多媒体配置_中控屏幕尺寸'].str.split('●', expand= True)\n",
    "# df.loc[one_solid]['多媒体配置_中控屏幕尺寸']\n",
    "\n",
    "# df.loc[hollow_double]['多媒体配置_中控屏幕尺寸'].str.split('英寸', expand= True)\n",
    "\n",
    "df.loc[hollow_solid][['多媒体配置_中控屏幕尺寸', '多媒体配置_中控屏幕尺寸_实心1', '多媒体配置_中控屏幕尺寸_实心2', '多媒体配置_中控屏幕尺寸_实心3', '多媒体配置_中控屏幕尺寸_空心1', '多媒体配置_中控屏幕尺寸_空心2' ]]"
   ]
  },
  {
   "cell_type": "code",
   "execution_count": null,
   "metadata": {},
   "outputs": [],
   "source": [
    "df['内部配置_液晶仪表尺寸'] = df['内部配置_液晶仪表尺寸'].fillna('A')\n",
    "df.loc[df['内部配置_液晶仪表尺寸'] == 0, '内部配置_液晶仪表尺寸'] = 'A'\n",
    "df.loc[df['内部配置_液晶仪表尺寸'] == '0',  '内部配置_液晶仪表尺寸'] = 'A'\n",
    "\n",
    "\n",
    "one_solid = (((df['内部配置_液晶仪表尺寸'].str.count('●')) == 1) & ~(df['内部配置_液晶仪表尺寸'].str.contains('○')))\n",
    "two_solid = (((df['内部配置_液晶仪表尺寸'].str.count('●')) == 2) & ~(df['内部配置_液晶仪表尺寸'].str.contains('○')))\n",
    "\n",
    "solid_hollow = ((df['内部配置_液晶仪表尺寸'].str.startswith('●')) & (df['内部配置_液晶仪表尺寸'].str.contains('○')))\n",
    "hollow_solid = ((df['内部配置_液晶仪表尺寸'].str.startswith('○')) & (df['内部配置_液晶仪表尺寸'].str.contains('●')))\n",
    "\n",
    "\n",
    "one_hollow = (((df['内部配置_液晶仪表尺寸'].str.count('○')) == 1) & ~(df['内部配置_液晶仪表尺寸'].str.contains('●')))\n",
    "two_hollow = (((df['内部配置_液晶仪表尺寸'].str.count('○')) == 2) & ~(df['内部配置_液晶仪表尺寸'].str.contains('●')))\n",
    "\n",
    "solid_double = df['内部配置_液晶仪表尺寸'].str.contains('●双') \n",
    "hollow_double = df['内部配置_液晶仪表尺寸'].str.contains('○双') \n",
    "\n",
    "df['内部配置_液晶仪表尺寸_实心1'] = ''\n",
    "df['内部配置_液晶仪表尺寸_实心2'] = ''\n",
    "df['内部配置_液晶仪表尺寸_实心3'] = ''\n",
    "df['内部配置_液晶仪表尺寸_空心1'] = ''\n",
    "df['内部配置_液晶仪表尺寸_空心2'] = ''\n",
    "\n",
    "df.loc[one_solid, '内部配置_液晶仪表尺寸_实心1'] = df.loc[one_solid]['内部配置_液晶仪表尺寸'].str.extract(r'(\\d+\\.?\\d*)').values\n",
    "\n",
    "df.loc[two_solid, '内部配置_液晶仪表尺寸_实心1'] = df.loc[two_solid]['内部配置_液晶仪表尺寸'].str.split('●', expand= True)[1].str.extract(r'(\\d+\\.?\\d*)').values\n",
    "df.loc[two_solid, '内部配置_液晶仪表尺寸_实心2'] = df.loc[two_solid]['内部配置_液晶仪表尺寸'].str.split('●', expand= True)[2].str.extract(r'(\\d+\\.?\\d*)').values\n",
    "\n",
    "df.loc[solid_hollow, '内部配置_液晶仪表尺寸_实心1'] = df.loc[solid_hollow]['内部配置_液晶仪表尺寸'].str.split('○', expand= True)[0].str.extract(r'(\\d+\\.?\\d*)').values\n",
    "df.loc[solid_hollow, '内部配置_液晶仪表尺寸_空心1'] = df.loc[solid_hollow]['内部配置_液晶仪表尺寸'].str.split('○', expand= True)[1].str.extract(r'(\\d+\\.?\\d*)').values\n",
    "\n",
    "df.loc[hollow_solid, '内部配置_液晶仪表尺寸_空心1'] = df.loc[hollow_solid]['内部配置_液晶仪表尺寸'].str.split('●', expand= True)[0].str.extract(r'(\\d+\\.?\\d*)').values\n",
    "df.loc[hollow_solid, '内部配置_液晶仪表尺寸_实心1'] = df.loc[hollow_solid]['内部配置_液晶仪表尺寸'].str.split('●', expand= True)[1].str.extract(r'(\\d+\\.?\\d*)').values\n",
    "\n",
    "df.loc[one_hollow, '内部配置_液晶仪表尺寸_空心1'] = df.loc[one_hollow]['内部配置_液晶仪表尺寸'].str.extract(r'(\\d+\\.?\\d*)').values\n",
    "\n",
    "\n",
    "\n",
    "df.loc[solid_double, '内部配置_液晶仪表尺寸_实心1'] = df.loc[solid_double]['内部配置_液晶仪表尺寸'].str.split('英寸', expand= True)[0].str.extract(r'(\\d+\\.?\\d*)').values\n",
    "df.loc[solid_double, '内部配置_液晶仪表尺寸_实心2'] = df.loc[solid_double]['内部配置_液晶仪表尺寸'].str.split('英寸', expand= True)[0].str.extract(r'(\\d+\\.?\\d*)').values\n",
    "df.loc[solid_double, '内部配置_液晶仪表尺寸_实心3'] = df.loc[solid_double]['内部配置_液晶仪表尺寸'].str.split('英寸', expand= True)[1].str.extract(r'(\\d+\\.?\\d*)').values\n"
   ]
  },
  {
   "cell_type": "code",
   "execution_count": null,
   "metadata": {},
   "outputs": [],
   "source": [
    "df.loc[hollow_solid][['内部配置_液晶仪表尺寸', '内部配置_液晶仪表尺寸_实心1', '内部配置_液晶仪表尺寸_实心2', '内部配置_液晶仪表尺寸_实心3', '内部配置_液晶仪表尺寸_空心1', '内部配置_液晶仪表尺寸_空心2' ]]"
   ]
  },
  {
   "cell_type": "code",
   "execution_count": null,
   "metadata": {},
   "outputs": [],
   "source": [
    "df.loc[hollow_solid]['内部配置_液晶仪表尺寸_空心1'].str.extract(r'(\\d+\\.?\\d*)').values"
   ]
  },
  {
   "cell_type": "code",
   "execution_count": null,
   "metadata": {},
   "outputs": [],
   "source": [
    "df.to_excel('res.xlsx', index= False)"
   ]
  },
  {
   "attachments": {},
   "cell_type": "markdown",
   "metadata": {},
   "source": [
    "## 封裝代碼"
   ]
  },
  {
   "cell_type": "code",
   "execution_count": null,
   "metadata": {},
   "outputs": [],
   "source": [
    "import pandas as pd \n",
    "import os"
   ]
  },
  {
   "cell_type": "code",
   "execution_count": null,
   "metadata": {},
   "outputs": [],
   "source": [
    "path = 'new_concat_v2'\n",
    "file_list = os.listdir(path)\n",
    "print('一共 %d 個文件' %len(file_list))"
   ]
  },
  {
   "cell_type": "code",
   "execution_count": null,
   "metadata": {},
   "outputs": [],
   "source": [
    "data_list = []\n",
    "\n",
    "for file in file_list:\n",
    "    data = pd.read_excel( path + \"/\" + file, sheet_name= 'Sheet1')\n",
    "    data['SOURCE'] = file[:-5]\n",
    "    data_list.append(data)"
   ]
  },
  {
   "cell_type": "code",
   "execution_count": null,
   "metadata": {},
   "outputs": [],
   "source": [
    "df = pd.concat(data_list, axis= 0)\n",
    "df.shape"
   ]
  },
  {
   "cell_type": "code",
   "execution_count": null,
   "metadata": {},
   "outputs": [],
   "source": [
    "one_solid =  df['多媒体配置_后排液晶屏幕'] == '●'\n",
    "\n",
    "\n",
    "df['多媒体配置_后排液晶屏幕_实心'] = ''\n",
    "df.loc[one_solid, '多媒体配置_后排液晶屏幕_实心'] = 6"
   ]
  },
  {
   "cell_type": "code",
   "execution_count": null,
   "metadata": {},
   "outputs": [],
   "source": [
    "def fill_nan_0(data, col):\n",
    "    data[col] = data[col].fillna('A')\n",
    "    data.loc[df[col] == 0, col] = 'A'\n",
    "    data.loc[df[col] == '0',  col] = 'A'\n",
    "    \n",
    "    return data\n",
    "\n",
    "df = fill_nan_0(df, '多媒体配置_中控屏幕尺寸')\n",
    "df = fill_nan_0(df, '内部配置_液晶仪表尺寸')"
   ]
  },
  {
   "cell_type": "code",
   "execution_count": null,
   "metadata": {},
   "outputs": [],
   "source": [
    "def diagnosis(data, col):\n",
    "    \n",
    "    max_solid_counts = data[col].str.count('●').max()\n",
    "    max_hollow_counts = data[col].str.count('○').max()\n",
    "    double_counts =  data[col].str.count('双').max()\n",
    "    print('最大实心数量 %d' %max_solid_counts)\n",
    "    print('最大空心数量 %d' %max_hollow_counts)\n",
    "    print('最大雙数量 %d' %double_counts)"
   ]
  },
  {
   "cell_type": "code",
   "execution_count": null,
   "metadata": {},
   "outputs": [],
   "source": [
    "diagnosis(df, '多媒体配置_中控屏幕尺寸')"
   ]
  },
  {
   "cell_type": "code",
   "execution_count": null,
   "metadata": {},
   "outputs": [],
   "source": [
    "def only_solid(data, col):\n",
    "    \n",
    "    one_solid = (((data[col].str.count('●')) == 1) & ~(data[col].str.contains('○')))\n",
    "    data.loc[one_solid, col + '_实心1'] = df.loc[one_solid][col].str.extract(r'(\\d+\\.?\\d*)').values\n",
    "    \n",
    "    return data"
   ]
  },
  {
   "cell_type": "code",
   "execution_count": null,
   "metadata": {},
   "outputs": [],
   "source": [
    "df = only_solid(df, '内部配置_液晶仪表尺寸')\n",
    "df = only_solid(df, '多媒体配置_中控屏幕尺寸')"
   ]
  },
  {
   "cell_type": "code",
   "execution_count": null,
   "metadata": {},
   "outputs": [],
   "source": [
    "def only_hollow(data, col):\n",
    "    \n",
    "    one_hollow = (((data[col].str.count('○')) == 1) & ~(data[col].str.contains('●')))\n",
    "    data.loc[one_hollow, col + '_空心1'] = df.loc[one_hollow][col].str.extract(r'(\\d+\\.?\\d*)').values\n",
    "    \n",
    "    return data"
   ]
  },
  {
   "cell_type": "code",
   "execution_count": null,
   "metadata": {},
   "outputs": [],
   "source": [
    "df = only_hollow(df, '内部配置_液晶仪表尺寸')\n",
    "df = only_hollow(df, '多媒体配置_中控屏幕尺寸')"
   ]
  },
  {
   "cell_type": "code",
   "execution_count": null,
   "metadata": {},
   "outputs": [],
   "source": [
    "def double_solid(data, col):\n",
    "    \n",
    "    two_solid = (((data[col].str.count('●')) == 2) & ~(data[col].str.contains('○')))\n",
    "    data.loc[two_solid, col + '_实心1'] = data.loc[two_solid][col].str.split('●', expand= True)[1].str.extract(r'(\\d+\\.?\\d*)').values\n",
    "    data.loc[two_solid, col + '_实心2'] = data.loc[two_solid][col].str.split('●', expand= True)[2].str.extract(r'(\\d+\\.?\\d*)').values\n",
    "    \n",
    "    return data"
   ]
  },
  {
   "cell_type": "code",
   "execution_count": null,
   "metadata": {},
   "outputs": [],
   "source": [
    "df = double_solid(df, '多媒体配置_中控屏幕尺寸')\n",
    "df = double_solid(df, '内部配置_液晶仪表尺寸')"
   ]
  },
  {
   "cell_type": "code",
   "execution_count": null,
   "metadata": {},
   "outputs": [],
   "source": [
    "def double_hollow(data, col):\n",
    "    \n",
    "    two_hollow = (((data[col].str.count('○')) == 2) & ~(data[col].str.contains('●')))\n",
    "    data.loc[two_hollow, col + '_空心1'] = data.loc[two_hollow][col].str.split('○', expand= True)[1].str.extract(r'(\\d+\\.?\\d*)').values\n",
    "    data.loc[two_hollow, col + '_空心2'] = data.loc[two_hollow][col].str.split('○', expand= True)[2].str.extract(r'(\\d+\\.?\\d*)').values\n",
    "    \n",
    "    return data"
   ]
  },
  {
   "cell_type": "code",
   "execution_count": null,
   "metadata": {},
   "outputs": [],
   "source": [
    "df = double_hollow(df, '多媒体配置_中控屏幕尺寸')\n",
    "# df = double_hollow(df, '内部配置_液晶仪表尺寸') # 没有双空心"
   ]
  },
  {
   "cell_type": "code",
   "execution_count": null,
   "metadata": {},
   "outputs": [],
   "source": [
    "def start_solid_end_hollow(data, col):\n",
    "    solid_hollow = ((data[col].str.startswith('●')) & (data[col].str.contains('○')))\n",
    "    data.loc[solid_hollow, col + '_实心1'] = df.loc[solid_hollow][col].str.split('○', expand= True)[0].str.extract(r'(\\d+\\.?\\d*)').values\n",
    "    data.loc[solid_hollow, col + '_空心1'] = df.loc[solid_hollow][col].str.split('○', expand= True)[1].str.extract(r'(\\d+\\.?\\d*)').values\n",
    "    \n",
    "    return data "
   ]
  },
  {
   "cell_type": "code",
   "execution_count": null,
   "metadata": {},
   "outputs": [],
   "source": [
    "df = start_solid_end_hollow(df, '多媒体配置_中控屏幕尺寸')\n",
    "df = start_solid_end_hollow(df, '内部配置_液晶仪表尺寸')"
   ]
  },
  {
   "cell_type": "code",
   "execution_count": null,
   "metadata": {},
   "outputs": [],
   "source": [
    "def start_hollow_end_solid(data, col):\n",
    "    hollow_solid = ((data[col].str.startswith('○')) & (data[col].str.contains('●')))\n",
    "    data.loc[hollow_solid, col + '_空心1'] = data.loc[hollow_solid][col].str.split('●', expand= True)[0].str.extract(r'(\\d+\\.?\\d*)').values\n",
    "    data.loc[hollow_solid, col + '_实心1'] = data.loc[hollow_solid][col].str.split('●', expand= True)[1].str.extract(r'(\\d+\\.?\\d*)').values\n",
    "    \n",
    "    return data "
   ]
  },
  {
   "cell_type": "code",
   "execution_count": null,
   "metadata": {},
   "outputs": [],
   "source": [
    "df = start_hollow_end_solid(df, '多媒体配置_中控屏幕尺寸')\n",
    "df = start_hollow_end_solid(df, '内部配置_液晶仪表尺寸')"
   ]
  },
  {
   "cell_type": "code",
   "execution_count": null,
   "metadata": {},
   "outputs": [],
   "source": [
    "def solid_with_double(data, col):\n",
    "    solid_double_hand = (data[col].str.contains('●双')) & ((data[col].str.count('●')) > 1)\n",
    "    solid_double = (df[col].str.contains('●双')) & ((df[col].str.count('●')) == 1)\n",
    "    \n",
    "    data.loc[solid_double, col + '_实心1'] = data.loc[solid_double][col].str.split('英寸', expand= True)[0].str.extract(r'(\\d+\\.?\\d*)').values\n",
    "    data.loc[solid_double, col + '_实心2'] = data.loc[solid_double][col].str.split('英寸', expand= True)[0].str.extract(r'(\\d+\\.?\\d*)').values\n",
    "    \n",
    "    data.loc[solid_double_hand, col + '_实心1'] = data.loc[solid_double_hand][col].str.split('英寸', expand= True)[0].str.extract(r'(\\d+\\.?\\d*)').values\n",
    "    data.loc[solid_double_hand, col + '_实心2'] = data.loc[solid_double_hand][col].str.split('英寸', expand= True)[1].str.extract(r'(\\d+\\.?\\d*)').values\n",
    "    data.loc[solid_double_hand, col + '_实心3'] = data.loc[solid_double_hand][col].str.split('英寸', expand= True)[1].str.extract(r'(\\d+\\.?\\d*)').values\n",
    "    \n",
    "    return data"
   ]
  },
  {
   "cell_type": "code",
   "execution_count": null,
   "metadata": {},
   "outputs": [],
   "source": [
    "df = solid_with_double(df, '内部配置_液晶仪表尺寸')\n",
    "df = solid_with_double(df, '多媒体配置_中控屏幕尺寸')"
   ]
  },
  {
   "cell_type": "code",
   "execution_count": null,
   "metadata": {},
   "outputs": [],
   "source": [
    "\n",
    "\n",
    "def hollow_with_double(data, col):\n",
    "    hollow_double = (data[col].str.contains('○双')) & ((data[col].str.count('●')) == 1)\n",
    "    \n",
    "    data.loc[hollow_double, col + '_实心1'] = data.loc[hollow_double][col].str.split('英寸', expand= True)[0].str.extract(r'(\\d+\\.?\\d*)').values\n",
    "    data.loc[hollow_double, col + '_空心1'] = data.loc[hollow_double][col].str.split('英寸', expand= True)[1].str.extract(r'(\\d+\\.?\\d*)').values\n",
    "    data.loc[hollow_double, col + '_空心2'] = data.loc[hollow_double][col].str.split('英寸', expand= True)[1].str.extract(r'(\\d+\\.?\\d*)').values\n",
    "    \n",
    "    return data\n",
    "    "
   ]
  },
  {
   "cell_type": "code",
   "execution_count": null,
   "metadata": {},
   "outputs": [],
   "source": [
    "df = hollow_with_double(df, '多媒体配置_中控屏幕尺寸')\n",
    "# df = hollow_with_double(df, '内部配置_液晶仪表尺寸') "
   ]
  },
  {
   "cell_type": "code",
   "execution_count": null,
   "metadata": {},
   "outputs": [],
   "source": [
    "# df.to_excel('res.xlsx', index= False)"
   ]
  },
  {
   "cell_type": "code",
   "execution_count": null,
   "metadata": {},
   "outputs": [],
   "source": [
    "# file_list =  df['SOURCE'].unique()\n",
    "\n",
    "# finder = 'res'\n",
    "\n",
    "\n",
    "# for file_name in file_list:\n",
    "#     res = df[df['SOURCE'] == file_name]\n",
    "#     res.to_excel(finder + '/'+ file_name + '.xlsx')"
   ]
  },
  {
   "cell_type": "code",
   "execution_count": null,
   "metadata": {},
   "outputs": [],
   "source": [
    "cols = ['多媒体配置_后排液晶屏幕_实心',\n",
    "        '内部配置_液晶仪表尺寸_实心1', '多媒体配置_中控屏幕尺寸_实心1', \n",
    "        '内部配置_液晶仪表尺寸_空心1','多媒体配置_中控屏幕尺寸_空心1', \n",
    "        '多媒体配置_中控屏幕尺寸_实心2', '内部配置_液晶仪表尺寸_实心2', \n",
    "        '多媒体配置_中控屏幕尺寸_空心2', '内部配置_液晶仪表尺寸_实心3', \n",
    "        '多媒体配置_中控屏幕尺寸_实心3']\n"
   ]
  },
  {
   "cell_type": "code",
   "execution_count": null,
   "metadata": {},
   "outputs": [],
   "source": [
    "df = df.reset_index(drop= True)\n",
    "\n",
    "df[cols] = df[cols].fillna(0)\n",
    "df[cols] = df[cols].replace('', 0)\n",
    "df[cols] = df[cols].astype(float)\n",
    "df['Number of displays'] = (df[cols] > 5).sum(axis = 1)\n",
    "df.loc[df['Number of displays'] > 0 , 'Primary display size (inch)'] = df.loc[df['Number of displays'] > 0 ][cols].max(axis =1 )"
   ]
  },
  {
   "cell_type": "code",
   "execution_count": null,
   "metadata": {},
   "outputs": [],
   "source": [
    "# # cols.append('Number of displays')\n",
    "# cols2 = ['Number of displays', 'Primary display size (inch)',\n",
    "#     '多媒体配置_后排液晶屏幕_实心',\n",
    "#         '内部配置_液晶仪表尺寸_实心1', '多媒体配置_中控屏幕尺寸_实心1', \n",
    "#         '内部配置_液晶仪表尺寸_空心1','多媒体配置_中控屏幕尺寸_空心1', \n",
    "#         '多媒体配置_中控屏幕尺寸_实心2', '内部配置_液晶仪表尺寸_实心2', \n",
    "#         '多媒体配置_中控屏幕尺寸_空心2', '内部配置_液晶仪表尺寸_实心3', \n",
    "#         '多媒体配置_中控屏幕尺寸_实心3']\n",
    "\n",
    "# df[cols2]"
   ]
  },
  {
   "cell_type": "code",
   "execution_count": null,
   "metadata": {},
   "outputs": [],
   "source": [
    "df[df['Internal reference'].str.contains('1986')]['Internal reference']"
   ]
  },
  {
   "cell_type": "code",
   "execution_count": null,
   "metadata": {},
   "outputs": [],
   "source": [
    "df['Internal reference'].str.extract(r'(\\d+款)')"
   ]
  },
  {
   "cell_type": "code",
   "execution_count": null,
   "metadata": {},
   "outputs": [],
   "source": [
    "df.columns"
   ]
  },
  {
   "cell_type": "code",
   "execution_count": null,
   "metadata": {},
   "outputs": [],
   "source": [
    "import numpy as np\n",
    "import pandas as pd\n",
    "import matplotlib.pyplot as plt\n",
    "import seaborn as sns\n",
    "\n",
    "import warnings\n",
    "warnings.filterwarnings(\"ignore\")"
   ]
  },
  {
   "cell_type": "code",
   "execution_count": null,
   "metadata": {},
   "outputs": [],
   "source": [
    "data = pd.read_excel('new_other1.xlsx')\n",
    "data.head()"
   ]
  },
  {
   "cell_type": "code",
   "execution_count": null,
   "metadata": {},
   "outputs": [],
   "source": [
    "data = data[data['Market'] == 'Singapore']\n",
    "data = data[data['Category'] == 'A']"
   ]
  },
  {
   "cell_type": "code",
   "execution_count": null,
   "metadata": {},
   "outputs": [],
   "source": [
    "data['time'] = ''\n",
    "\n",
    "data.loc[data['Quarter'] == 1, 'time'] = '01-01'\n",
    "data.loc[data['Quarter'] == 2, 'time'] = '04-01'\n",
    "data.loc[data['Quarter'] == 3, 'time'] = '07-01'\n",
    "data.loc[data['Quarter'] == 4, 'time'] = '10-01'"
   ]
  },
  {
   "cell_type": "code",
   "execution_count": null,
   "metadata": {},
   "outputs": [],
   "source": [
    "data['Year-Q'] = data['Year'].astype(str) + '-' + data['time'].astype(str)\n",
    "data['Year-Q'] = pd.to_datetime(data['Year-Q'])"
   ]
  },
  {
   "cell_type": "code",
   "execution_count": null,
   "metadata": {},
   "outputs": [],
   "source": [
    "df = data[['Year-Q', 'Units']]\n",
    "y = df.groupby(['Year-Q'])['Units'].sum().to_frame()\n",
    "# y = df.set_index('Year-Q')\n",
    "y.sort_index(inplace=True)\n",
    "y"
   ]
  },
  {
   "cell_type": "code",
   "execution_count": null,
   "metadata": {},
   "outputs": [],
   "source": [
    "y.plot(figsize=(16, 9))\n",
    "plt.show()"
   ]
  },
  {
   "cell_type": "code",
   "execution_count": null,
   "metadata": {},
   "outputs": [],
   "source": [
    "# from matplotlib import pyplot\n",
    "plt.figure( figsize= (16, 9))\n",
    "plt.figure(1)\n",
    "plt.subplot(211)\n",
    "y.Units.hist()\n",
    "plt.subplot(212)\n",
    "y.Units.plot(kind='kde')\n",
    "plt.show()"
   ]
  },
  {
   "cell_type": "code",
   "execution_count": null,
   "metadata": {},
   "outputs": [],
   "source": [
    "fig, ax = plt.subplots(figsize=(16,9))\n",
    "\n",
    "sns.boxplot(y.Units.index, y.Units, ax=ax)"
   ]
  },
  {
   "attachments": {},
   "cell_type": "markdown",
   "metadata": {},
   "source": [
    "## FBPROPHET"
   ]
  },
  {
   "cell_type": "code",
   "execution_count": null,
   "metadata": {},
   "outputs": [],
   "source": [
    "#divide into train and validation set\n",
    "train = y[:int(1*(len(y)))]\n",
    "valid = y[int(0.75*(len(y))):]\n",
    "\n",
    "#plotting the data\n",
    "train['Units'].plot()\n",
    "valid['Units'].plot()"
   ]
  },
  {
   "cell_type": "code",
   "execution_count": null,
   "metadata": {},
   "outputs": [],
   "source": [
    "train['ds'] = train.index\n",
    "train"
   ]
  },
  {
   "cell_type": "code",
   "execution_count": null,
   "metadata": {},
   "outputs": [],
   "source": [
    "# from fbprophet import Prophet\n",
    "from fbprophet import Prophet\n",
    "\n",
    "#instantiate Prophet with only yearly seasonality as our data is monthly \n",
    "\n",
    "\n",
    "# def is_nfl_season(ds):\n",
    "#     date = pd.to_datetime(ds)\n",
    "#     return (date.month == 1 or date.month < 4)\n",
    "\n",
    "# train['on_season'] = train['ds'].apply(is_nfl_season)\n",
    "# train['off_season'] = ~train['ds'].apply(is_nfl_season)\n",
    "# train"
   ]
  },
  {
   "cell_type": "code",
   "execution_count": null,
   "metadata": {},
   "outputs": [],
   "source": [
    "train_prophet = pd.DataFrame()\n",
    "train_prophet['ds'] = train.index\n",
    "train_prophet['y'] = train.Units.values\n",
    "\n",
    "# train_prophet = train[[\"ds\", 'Units', 'on_season', 'off_season']]\n",
    "# train_prophet.rename( columns= {'Units' : 'y'}, inplace= True)\n"
   ]
  },
  {
   "cell_type": "code",
   "execution_count": null,
   "metadata": {},
   "outputs": [],
   "source": [
    "model = Prophet( yearly_seasonality=5, weekly_seasonality=False, seasonality_mode = 'multiplicative', growth='logistic', holidays_prior_scale=0.05)\n",
    "\n",
    "train_prophet['cap'] = 10000000\n",
    "train_prophet['floor'] = 0\n",
    "# model = Prophet(weekly_seasonality=False)\n",
    "# model.add_seasonality(name='weekly_on_season', period=4, fourier_order=1, condition_name='on_season')\n",
    "# model.add_seasonality(name='weekly_off_season', period=4, fourier_order=1, condition_name='off_season')\n",
    "\n",
    "model.fit(train_prophet) #fit the model with your dataframe"
   ]
  },
  {
   "cell_type": "code",
   "execution_count": null,
   "metadata": {},
   "outputs": [],
   "source": [
    "# predict for five months in the furure and MS - month start is the frequency\n",
    "future = model.make_future_dataframe( periods = 4, freq = 'QS') \n",
    "future.tail()"
   ]
  },
  {
   "cell_type": "code",
   "execution_count": null,
   "metadata": {},
   "outputs": [],
   "source": [
    "# now lets make the forecasts\n",
    "# future['cap'] = 9386246\n",
    "future['cap'] = 10000000\n",
    "future['floor'] = 0\n",
    "# future['on_season'] = future['ds'].apply(is_nfl_season)\n",
    "# future['off_season'] = ~future['ds'].apply(is_nfl_season)\n",
    "forecast = model.predict(future)\n",
    "forecast[['ds', 'yhat', 'yhat_lower', 'yhat_upper']].tail()"
   ]
  },
  {
   "cell_type": "code",
   "execution_count": null,
   "metadata": {},
   "outputs": [],
   "source": [
    "fig = model.plot(forecast)\n",
    "#plot the predictions for validation set\n",
    "\n",
    "plt.plot(valid, label='Valid', color = 'red', linewidth = 2)\n",
    "\n",
    "plt.show()"
   ]
  },
  {
   "cell_type": "code",
   "execution_count": null,
   "metadata": {},
   "outputs": [],
   "source": [
    "model.plot_components(forecast)"
   ]
  },
  {
   "cell_type": "code",
   "execution_count": null,
   "metadata": {},
   "outputs": [],
   "source": [
    "y_prophet = pd.DataFrame()\n",
    "y_prophet['ds'] = y.index\n",
    "y_prophet['y'] = y.Units.values\n",
    "y_prophet = y_prophet.set_index('ds')\n"
   ]
  },
  {
   "cell_type": "code",
   "execution_count": null,
   "metadata": {},
   "outputs": [],
   "source": [
    "forecast_prophet = forecast.set_index('ds')\n",
    "forecast_prophet"
   ]
  },
  {
   "cell_type": "code",
   "execution_count": null,
   "metadata": {},
   "outputs": [],
   "source": []
  },
  {
   "cell_type": "code",
   "execution_count": null,
   "metadata": {},
   "outputs": [],
   "source": []
  },
  {
   "attachments": {},
   "cell_type": "markdown",
   "metadata": {},
   "source": [
    "## 添加ALL 行"
   ]
  },
  {
   "cell_type": "code",
   "execution_count": null,
   "metadata": {},
   "outputs": [],
   "source": [
    "import pandas as pd"
   ]
  },
  {
   "cell_type": "code",
   "execution_count": null,
   "metadata": {},
   "outputs": [],
   "source": [
    "dataA = pd.read_excel('example.xlsx', sheet_name= 'A')\n",
    "dataB = pd.read_excel('example.xlsx', sheet_name= 'B')"
   ]
  },
  {
   "cell_type": "code",
   "execution_count": null,
   "metadata": {},
   "outputs": [],
   "source": [
    "colsB = ['OEM', 'Brand', 'Vehicle classification', 'Model family', 'Type', 'Country']\n",
    "\n",
    "# for ind, val in dataB.groupby(cols)[['Country', 'Units']]:\n",
    "#     print(val)\n",
    "\n",
    "df_B = dataB.groupby(cols)[['Units']].sum().reset_index()\n",
    "# df_B.loc[ ((df_B['Type'] == 'ICE') & (df_B['Country'] == 'Canada') & (df_B['Model family'] == 'Arteon/CC') & (df_B['Vehicle classification'] == 'Car'))]\n",
    "df_B_test = df_B.loc[ ((df_B['Type'] == 'ICE') & (df_B['Model family'] == 'Arteon/CC') & (df_B['Vehicle classification'] == 'Car'))]\n",
    "df_B_test"
   ]
  },
  {
   "cell_type": "code",
   "execution_count": null,
   "metadata": {},
   "outputs": [],
   "source": [
    "Countrys = df.reset_index().Country.unique()\n",
    "Countrys"
   ]
  },
  {
   "cell_type": "code",
   "execution_count": null,
   "metadata": {},
   "outputs": [],
   "source": [
    "dataA.columns"
   ]
  },
  {
   "cell_type": "code",
   "execution_count": null,
   "metadata": {},
   "outputs": [],
   "source": [
    "colsA = ['OEM', 'Brand', 'Vehicle classification', 'Type', 'Model family']\n",
    "\n",
    "valA_list = []\n",
    "for indA, valA in dataA.groupby(colsA):\n",
    "    valA_list.append(valA)"
   ]
  },
  {
   "cell_type": "code",
   "execution_count": null,
   "metadata": {},
   "outputs": [],
   "source": [
    "all_row = ['ALL', 'ALL', 'ALL', 'ALL', 'ALL']\n",
    "\n",
    "valA_list[0][colsA]"
   ]
  },
  {
   "cell_type": "code",
   "execution_count": null,
   "metadata": {},
   "outputs": [],
   "source": [
    "df_B.loc[ ((df_B['Type'] == 'BEV') & (df_B['Model family'] == 'ID.3') & (df_B['Vehicle classification'] == 'Car'))]"
   ]
  },
  {
   "cell_type": "code",
   "execution_count": null,
   "metadata": {},
   "outputs": [],
   "source": [
    "ALL_df = pd.DataFrame(data = [all_row], columns= colsA)\n",
    "ALL_df"
   ]
  },
  {
   "cell_type": "code",
   "execution_count": null,
   "metadata": {},
   "outputs": [],
   "source": [
    "Countrys = df.reset_index().Country.unique()\n",
    "Countrys"
   ]
  },
  {
   "cell_type": "code",
   "execution_count": null,
   "metadata": {},
   "outputs": [],
   "source": [
    "for c in Countrys:\n",
    "    ALL_df[c] = 0"
   ]
  },
  {
   "cell_type": "code",
   "execution_count": null,
   "metadata": {},
   "outputs": [],
   "source": [
    "ALL_df"
   ]
  },
  {
   "cell_type": "code",
   "execution_count": null,
   "metadata": {},
   "outputs": [],
   "source": [
    "df_test = df_B.loc[ ((df_B['Type'] == 'ICE') & (df_B['Model family'] == 'Amarok') & (df_B['Vehicle classification'] == 'Pickup'))]\n",
    "df_test"
   ]
  },
  {
   "cell_type": "code",
   "execution_count": null,
   "metadata": {},
   "outputs": [],
   "source": [
    "for c in df_test['Country']:\n",
    "    ALL_df[c] = df_test[ df_test['Country'] == c]['Units'].values"
   ]
  },
  {
   "cell_type": "code",
   "execution_count": null,
   "metadata": {},
   "outputs": [],
   "source": [
    "ALL_df"
   ]
  },
  {
   "cell_type": "code",
   "execution_count": null,
   "metadata": {},
   "outputs": [],
   "source": [
    "dataA_test = dataA.loc[ ((dataA['Type'] == 'ICE') & (dataA['Model family'] == 'Amarok') & (dataA['Vehicle classification'] == 'Pickup'))]\n",
    "dataA_test"
   ]
  },
  {
   "cell_type": "code",
   "execution_count": null,
   "metadata": {},
   "outputs": [],
   "source": [
    "pd.concat([ALL_df, dataA_test])"
   ]
  },
  {
   "attachments": {},
   "cell_type": "markdown",
   "metadata": {},
   "source": [
    "## 應用到全部"
   ]
  },
  {
   "cell_type": "code",
   "execution_count": null,
   "metadata": {},
   "outputs": [],
   "source": [
    "import pandas as pd"
   ]
  },
  {
   "cell_type": "code",
   "execution_count": null,
   "metadata": {},
   "outputs": [],
   "source": [
    "dataA = pd.read_excel('example.xlsx', sheet_name= 'A')\n",
    "dataB = pd.read_excel('example.xlsx', sheet_name= 'B')"
   ]
  },
  {
   "cell_type": "code",
   "execution_count": null,
   "metadata": {},
   "outputs": [],
   "source": [
    "colsA = ['OEM', 'Brand', 'Vehicle classification', 'Type', 'Model family']\n",
    "colsB = ['OEM', 'Brand', 'Vehicle classification', 'Model family', 'Type', 'Country']"
   ]
  },
  {
   "cell_type": "code",
   "execution_count": null,
   "metadata": {},
   "outputs": [],
   "source": [
    "all_row = ['ALL', 'ALL', 'ALL', 'ALL', 'ALL']\n",
    "ALL_df = pd.DataFrame(data = [all_row], columns= colsA)\n",
    "\n",
    "df_B = dataB.groupby(colsB)[['Units']].sum()\n",
    "Countrys = df_B.reset_index().Country.unique()\n",
    "\n",
    "for c in Countrys:\n",
    "    ALL_df[c] = 0\n",
    "    \n",
    "ALL_df"
   ]
  },
  {
   "cell_type": "code",
   "execution_count": null,
   "metadata": {},
   "outputs": [],
   "source": [
    "nan_row = pd.DataFrame([['', '', '', '', '', \n",
    "                        '', '', '', '', '', \n",
    "                        '', '', '', '', '', \n",
    "                        '', '', '', '', '', \n",
    "                        ]], columns = ALL_df.columns)\n",
    "\n",
    "nan_row"
   ]
  },
  {
   "cell_type": "code",
   "execution_count": null,
   "metadata": {},
   "outputs": [],
   "source": [
    "df_B = dataB.groupby(colsB)[['Units']].sum().reset_index()\n",
    "\n",
    "res_list = []\n",
    "\n",
    "for indA, valA in dataA.groupby(colsA):\n",
    "    \n",
    "    df_B_tmp = df_B.loc[ ((df_B['Type'] == indA[3]) & (df_B['Model family'] == indA[4]) & (df_B['Vehicle classification'] == indA[2]))]\n",
    "    dataA_tmp = dataA.loc[ ((dataA['Type'] == indA[3]) & (dataA['Model family'] == indA[4]) & (dataA['Vehicle classification'] == indA[2]))]\n",
    "    \n",
    "    for c in df_B_tmp['Country']:\n",
    "        ALL_df[c] = df_B_tmp[ df_B_tmp['Country'] == c]['Units'].values\n",
    "        res = pd.concat([ALL_df, dataA_tmp, nan_row])\n",
    "        \n",
    "    res_list.append(res)"
   ]
  },
  {
   "cell_type": "code",
   "execution_count": null,
   "metadata": {},
   "outputs": [],
   "source": [
    "fin = pd.concat(res_list).reset_index( drop = True)\n",
    "fin = fin[dataA.columns]\n",
    "fin.to_excel('fin.xlsx', index = False)"
   ]
  },
  {
   "cell_type": "code",
   "execution_count": null,
   "metadata": {},
   "outputs": [],
   "source": []
  },
  {
   "cell_type": "code",
   "execution_count": null,
   "metadata": {},
   "outputs": [],
   "source": [
    "import pandas as pd\n",
    "import numpy as np"
   ]
  },
  {
   "cell_type": "code",
   "execution_count": null,
   "metadata": {},
   "outputs": [],
   "source": [
    "df1 = pd.read_excel('df1_test1(1).xlsx', header= [0, 1])\n",
    "df1.head()"
   ]
  },
  {
   "cell_type": "code",
   "execution_count": null,
   "metadata": {},
   "outputs": [],
   "source": [
    "# df1.columns"
   ]
  },
  {
   "cell_type": "code",
   "execution_count": null,
   "metadata": {},
   "outputs": [],
   "source": [
    "df2 = pd.read_excel('vk_spec1(1).xlsx', header= [0, 1])\n",
    "df2.head()"
   ]
  },
  {
   "cell_type": "code",
   "execution_count": null,
   "metadata": {},
   "outputs": [],
   "source": [
    "res = pd.read_excel('auto_s.xlsx', header= [0, 1])\n",
    "res.head()"
   ]
  },
  {
   "cell_type": "code",
   "execution_count": null,
   "metadata": {},
   "outputs": [],
   "source": [
    "fin = pd.concat([df2, df1.drop([('Unnamed: 0_level_0', 'Unnamed: 0_level_1')], axis = 1)], axis = 1)\n",
    "fin"
   ]
  },
  {
   "cell_type": "code",
   "execution_count": null,
   "metadata": {},
   "outputs": [],
   "source": [
    "# fin.to_excel('res.xlsx')"
   ]
  },
  {
   "cell_type": "code",
   "execution_count": null,
   "metadata": {},
   "outputs": [],
   "source": [
    "fin.columns[:4]"
   ]
  },
  {
   "cell_type": "code",
   "execution_count": null,
   "metadata": {},
   "outputs": [],
   "source": [
    "# df = pd.DataFrame([[1,2,3], [10,20,30], [100,200,300]])\n",
    "# df.columns = pd.MultiIndex.from_tuples(((\"a\", \"b\"), (\"a\", \"c\"), (\"d\", \"f\")))\n",
    "# df"
   ]
  },
  {
   "cell_type": "code",
   "execution_count": null,
   "metadata": {},
   "outputs": [],
   "source": [
    "# df.columns.levels[1]"
   ]
  },
  {
   "cell_type": "code",
   "execution_count": null,
   "metadata": {},
   "outputs": [],
   "source": [
    "# fin.columns"
   ]
  },
  {
   "cell_type": "code",
   "execution_count": null,
   "metadata": {},
   "outputs": [],
   "source": [
    "# fin.loc[0] = {\n",
    "#   fin.columns[0] : fin.columns[0][1],\n",
    "#   fin.columns[1] : fin.columns[1][1],\n",
    "#   fin.columns[2] : fin.columns[2][1],\n",
    "#   fin.columns[3] : fin.columns[3][1],\n",
    "# }"
   ]
  },
  {
   "cell_type": "code",
   "execution_count": null,
   "metadata": {},
   "outputs": [],
   "source": [
    "fin.columns[3]"
   ]
  },
  {
   "cell_type": "code",
   "execution_count": null,
   "metadata": {},
   "outputs": [],
   "source": [
    "# fin.columns = pd.MultiIndex.from_tuples(fin.set_axis(fin.columns.values, axis=1).rename(columns={\n",
    "#    ('OEM', 'Volkswagen Group'): ('OEM', ''),\n",
    "#    ('Brand','Volkswagen'): ('Brand',''),\n",
    "#    ('Vehicle classification', 'Car') : ('Vehicle classification', ''),\n",
    "#    ('Model family', 'Arteon/CC') : ('Model family', '')\n",
    "#   }))\n",
    "\n"
   ]
  },
  {
   "cell_type": "code",
   "execution_count": null,
   "metadata": {},
   "outputs": [],
   "source": [
    "l1 = [fin.columns[0][1], fin.columns[1][1], fin.columns[2][1], fin.columns[3][1]]\n",
    "\n",
    "for _ in range(64):\n",
    "  l1.append(np.NAN)\n",
    "  \n",
    "df = pd.DataFrame(np.insert(fin.values, 0, values= l1, axis=0))\n",
    "df.head()"
   ]
  },
  {
   "cell_type": "code",
   "execution_count": null,
   "metadata": {},
   "outputs": [],
   "source": [
    "fin.columns = pd.MultiIndex.from_tuples(fin.set_axis(fin.columns.values, axis=1).rename(columns={\n",
    "   (fin.columns[0][0], fin.columns[0][1]): (fin.columns[0][0], 'ALL'),\n",
    "   (fin.columns[1][0], fin.columns[1][1]): (fin.columns[1][0], ''),\n",
    "   (fin.columns[2][0], fin.columns[2][1]): (fin.columns[2][0], ''),\n",
    "   (fin.columns[3][0], fin.columns[3][1]): (fin.columns[3][0], ''),\n",
    "\n",
    "  }))"
   ]
  },
  {
   "attachments": {},
   "cell_type": "markdown",
   "metadata": {},
   "source": [
    "## 不當人的任務"
   ]
  },
  {
   "cell_type": "code",
   "execution_count": 17,
   "metadata": {},
   "outputs": [],
   "source": [
    "import pandas as pd\n",
    "import numpy as np\n",
    "\n",
    "df1 = pd.read_excel('DATA/df1_test1(1).xlsx', header= [0, 1])\n",
    "df2 = pd.read_excel('DATA/vk_spec1(1).xlsx', \n",
    "                    header= [0, 1])\n",
    "fin = pd.concat([df2, df1.drop([('Unnamed: 0_level_0', 'Unnamed: 0_level_1')], \n",
    "                               axis = 1)], axis = 1)\n",
    "\n",
    "l1 = [fin.columns[0][1], fin.columns[1][1], \n",
    "      fin.columns[2][1], fin.columns[3][1]]\n",
    "\n",
    "for _ in range(64): l1.append(np.NAN)\n",
    "\n",
    "fin.columns = pd.MultiIndex.from_tuples(\n",
    "  fin.set_axis(fin.columns.values, axis=1).rename(columns={\n",
    "   (fin.columns[0][0], fin.columns[0][1]): (fin.columns[0][0], ''),\n",
    "   (fin.columns[1][0], fin.columns[1][1]): (fin.columns[1][0], ''),\n",
    "   (fin.columns[2][0], fin.columns[2][1]): (fin.columns[2][0], ''),\n",
    "   (fin.columns[3][0], fin.columns[3][1]): (fin.columns[3][0], 'All'),\n",
    "  })\n",
    "  )\n",
    "\n",
    "df = pd.DataFrame(np.insert(fin.values, 0, values= l1, axis=0),\n",
    "                  columns= fin.columns)\n",
    "\n",
    "null_list = [np.NAN for _ in range(df.shape[1])]\n",
    "all_list = [i[1] for i in fin.columns]\n",
    "null_row = pd.DataFrame(data = [null_list], columns= df.columns)\n",
    "all_row = pd.DataFrame(data = [all_list], columns= df.columns)\n",
    "\n",
    "merge_row =  pd.concat([null_row, all_row], axis = 0)\n",
    "\n",
    "tmp_list = [pd.concat([merge_row, val], axis = 0) for _, \n",
    "            val in df.groupby(('Vehicle classification', ''))]   \n",
    "\n",
    "df = pd.concat(tmp_list, axis= 0, ignore_index = True)\n",
    "df.drop(index= [0, 1], axis=0, inplace= True)\n",
    "df.to_excel('res.xlsx', engine='openpyxl')"
   ]
  },
  {
   "cell_type": "code",
   "execution_count": 18,
   "metadata": {},
   "outputs": [],
   "source": [
    "from openpyxl.utils import get_column_letter\n",
    "from openpyxl import load_workbook, Workbook\n",
    "from openpyxl.formatting.rule import DataBarRule\n",
    "\n",
    "writer = pd.ExcelWriter('res.xlsx', engine='openpyxl')\n",
    "df.to_excel(writer, sheet_name='Sheet1')\n",
    "\n",
    "workbook = writer.book\n",
    "worksheet = writer.sheets['Sheet1']\n",
    "\n",
    "row_counts = df.shape[0]\n",
    "col_counts = df.shape[1] -4\n",
    "nan_ind = df[df[('Model family', 'All')].str.contains('All', na= True)].index \n",
    "\n",
    "for r in range(row_counts):\n",
    "  for c in range(col_counts):\n",
    "    worksheet.cell(row = r + 4,column = c + 5).number_format = '0.00%'\n",
    "\n",
    "def make_letter_list(type):\n",
    "  letter_list = [get_column_letter(k[0]+2) \n",
    "                 for k in enumerate(df.columns) if k[1][1] == type]\n",
    "  return letter_list\n",
    "\n",
    "letter_list = make_letter_list('ICE')\n",
    "BEV_letter_list = make_letter_list('BEV')\n",
    "Others_letter_list = make_letter_list('Others')\n",
    "\n",
    "for letter, bev, others in zip(letter_list, BEV_letter_list, \n",
    "                               Others_letter_list):\n",
    "  for i in range(row_counts):\n",
    "    if i + 2 not in nan_ind:\n",
    "      cell = letter + str(i+4)\n",
    "      start = bev + str(i+4)\n",
    "      end = others +  str(i+4)\n",
    "      formula = '=1-SUM(%s:%s)' %(start, end)\n",
    "      worksheet[cell] = formula\n",
    "      \n",
    "writer.save()"
   ]
  },
  {
   "cell_type": "code",
   "execution_count": 19,
   "metadata": {},
   "outputs": [],
   "source": [
    "from openpyxl import load_workbook\n",
    "from openpyxl.formatting.rule import DataBarRule\n",
    "from openpyxl.styles import colors \n",
    "\n",
    "workbook = load_workbook(filename=\"res.xlsx\")\n",
    "sheet = workbook.active \n",
    "\n",
    "def make_color( type, color ):\n",
    "  \n",
    "  other_list = make_letter_list(type)\n",
    "  rule = DataBarRule(start_type='num', end_type='num', \n",
    "                     start_value=0, end_value=1, color= color)\n",
    "      \n",
    "  for letter in other_list:\n",
    "    start = letter + '2'\n",
    "    end = letter + str(df.shape[0] + 3)\n",
    "    sheet.conditional_formatting.add(\"%s:%s\" %(start, end), rule)\n",
    "  \n",
    "make_color( 'ICE', 'BDB76B' )\n",
    "make_color( 'PHEV', '66FFE6' )\n",
    "make_color( 'BEV', '5C50E6' )\n",
    "make_color( 'Others', 'CC0080' )\n",
    "\n",
    "workbook.save('wb2g.xlsx') "
   ]
  },
  {
   "attachments": {},
   "cell_type": "markdown",
   "metadata": {},
   "source": [
    "## 不当人任务 ROUND 2 "
   ]
  },
  {
   "cell_type": "code",
   "execution_count": 52,
   "metadata": {},
   "outputs": [
    {
     "name": "stderr",
     "output_type": "stream",
     "text": [
      "/Users/weidaw/opt/anaconda3/envs/weida/lib/python3.7/site-packages/ipykernel_launcher.py:12: FutureWarning: Use of **kwargs is deprecated, use engine_kwargs instead.\n",
      "  if sys.path[0] == \"\":\n"
     ]
    }
   ],
   "source": [
    "import pandas as pd\n",
    "import numpy as np\n",
    "from openpyxl.utils import get_column_letter\n",
    "from openpyxl import load_workbook, Workbook\n",
    "from openpyxl.formatting.rule import DataBarRule\n",
    "\n",
    "data = pd.read_excel('fin_new_vk2.xlsx')\n",
    "no_use_cols = ['OEM', 'Brand', 'Vehicle Classification', 'Model family', 'space1', 'space2']\n",
    "rate_cols = data.columns[data.columns.str.contains('-r')]\n",
    "data[rate_cols] = data.drop(no_use_cols, axis = 1 ).drop( rate_cols, axis = 1)\n",
    "\n",
    "writer = pd.ExcelWriter('res.xlsx',index = False, engine='openpyxl')\n",
    "data.to_excel(writer, sheet_name='Sheet1')\n",
    "\n",
    "workbook = writer.book\n",
    "worksheet = writer.sheets['Sheet1']\n",
    "\n",
    "nan_ind = data[data[('Model family')].str.contains('ALL', na= True)].index \n",
    "\n",
    "rate_col_ind = [ind  for ind, col in enumerate(data.columns) if '-r' in col]\n",
    "rate_row_ind = [ ind for ind in range(data.shape[0]) if ind not in nan_ind]\n",
    "\n",
    "countrys_cols = [col for ind, col in enumerate(data)\n",
    "                 if (col not in no_use_cols) and (col not in rate_cols)]\n",
    "\n",
    "countrys_cols_ind = [ind + 1 for ind, col in enumerate(data)\n",
    "                 if (col not in no_use_cols) and (col not in rate_cols)]\n",
    "\n",
    "rate_col_ind = [ind + 1 for ind, col in enumerate(data) if col  in rate_cols]\n",
    "\n",
    "for r in rate_row_ind: \n",
    "  for c in rate_col_ind: \n",
    "    worksheet.cell(row = r + 2 ,column = c + 2 ).number_format = '0.00%'\n"
   ]
  },
  {
   "cell_type": "code",
   "execution_count": 53,
   "metadata": {},
   "outputs": [],
   "source": [
    "star_ind = data[data['Model family'] == 'ALL'].index # 起點\n",
    "end_ind = np.append(np.setdiff1d(nan_ind, star_ind), data.shape[0])  # 終點\n",
    "steps_list = [val.shape[0] for  _, val in  data.groupby(['OEM', 'Brand', 'Vehicle Classification'])]\n",
    "\n",
    "sheet = workbook.active \n",
    "rule = DataBarRule(start_type='num', end_type='num', \n",
    "                   start_value=0, end_value=1, color= 'BDB76B')\n",
    "\n",
    "for s, e, step in zip(star_ind, end_ind, steps_list):\n",
    "  for rc, c in zip(rate_col_ind, countrys_cols_ind):\n",
    "    \n",
    "    p1 = get_column_letter(rc+1) + '$' + str(s + 2 )\n",
    "    p3 = get_column_letter(rc+1) + '$' + str(s + 3 )\n",
    "    p4 = get_column_letter(rc+1) + '$' + str(e + 1)\n",
    "    \n",
    "    start_color = get_column_letter(rc+1) + str(s + 3 )\n",
    "    end_color = get_column_letter(rc+1) + str(e + 1)\n",
    "    sheet.conditional_formatting.add(\"%s:%s\" %(start_color,\n",
    "                                               end_color), rule)\n",
    "    \n",
    "    for i in range(step):\n",
    "      p2 = get_column_letter(rc+1) + str(s + 2 + 1 + i  )\n",
    "      formula = '=IFERROR(ROUND(%s*(%s/SUM(%s:%s)),0),0)' %(p1, p2, p3, p4)\n",
    "      cell = get_column_letter(c+1) + str(s + 2 + 1 + i  )\n",
    "      # print(cell)\n",
    "      worksheet[cell] = formula\n",
    "writer.save()"
   ]
  },
  {
   "attachments": {},
   "cell_type": "markdown",
   "metadata": {},
   "source": [
    "## 不当人任务 ROUND 2 (去除 index 列)"
   ]
  },
  {
   "cell_type": "code",
   "execution_count": 313,
   "metadata": {},
   "outputs": [
    {
     "name": "stdout",
     "output_type": "stream",
     "text": [
      "CPU times: user 2 µs, sys: 0 ns, total: 2 µs\n",
      "Wall time: 11 µs\n"
     ]
    }
   ],
   "source": [
    "%time\n",
    "import pandas as pd\n",
    "import numpy as np\n",
    "from openpyxl.utils import get_column_letter\n",
    "from openpyxl import load_workbook, Workbook\n",
    "from openpyxl.formatting.rule import DataBarRule\n",
    "\n",
    "data = pd.read_excel('fin_new_vk2.xlsx')\n",
    "no_use_cols = ['OEM', 'Brand', 'Vehicle Classification', \n",
    "               'Model family', 'space1', 'space2']\n",
    "rate_cols = data.columns[data.columns.str.contains('-r')]\n",
    "data[rate_cols] = data.drop(no_use_cols, axis = 1 ).drop( rate_cols, axis = 1)\n",
    "\n",
    "writer = pd.ExcelWriter('res.xlsx', engine='openpyxl')\n",
    "data.to_excel(writer, sheet_name='Sheet1')\n",
    "\n",
    "workbook = writer.book\n",
    "worksheet = writer.sheets['Sheet1']\n",
    "\n",
    "nan_ind = data[data[('Model family')].str.contains('ALL', na= True)].index \n",
    "\n",
    "rate_col_ind = [ind  for ind, col in enumerate(data.columns) if '-r' in col]\n",
    "rate_row_ind = [ ind for ind in range(data.shape[0]) if ind not in nan_ind]\n",
    "\n",
    "countrys_cols = [col for ind, col in enumerate(data) \\\n",
    "                 if (col not in no_use_cols) and (col not in rate_cols)]\n",
    "\n",
    "countrys_cols_ind = [ind + 1 for ind, col in enumerate(data) \\\n",
    "                 if (col not in no_use_cols) and (col not in rate_cols)]\n",
    "\n",
    "rate_col_ind = [ind + 1 for ind, col in enumerate(data) if col  in rate_cols]\n",
    "\n",
    "for r in rate_row_ind: \n",
    "  for c in rate_col_ind: \n",
    "    worksheet.cell(row = r + 2 ,column = c + 1 ).number_format = '0.00%'"
   ]
  },
  {
   "cell_type": "code",
   "execution_count": 312,
   "metadata": {},
   "outputs": [
    {
     "name": "stdout",
     "output_type": "stream",
     "text": [
      "CPU times: user 2 µs, sys: 1 µs, total: 3 µs\n",
      "Wall time: 2.86 µs\n"
     ]
    }
   ],
   "source": [
    "%time\n",
    "star_ind = data[data['Model family'] == 'ALL'].index # 起點\n",
    "end_ind = np.append(np.setdiff1d(nan_ind, star_ind), data.shape[0])  # 終點\n",
    "steps_list = [val.shape[0] for  _, val in \n",
    "              data.groupby(['OEM', 'Brand', 'Vehicle Classification'])]\n",
    "\n",
    "sheet = workbook.active \n",
    "rule = DataBarRule(start_type='num', end_type='num', \n",
    "                   start_value=0, end_value=1, color= 'BDB76B')\n",
    "\n",
    "for s, e, step in zip(star_ind, end_ind, steps_list):\n",
    "  for rc, c in zip(rate_col_ind, countrys_cols_ind):\n",
    "    \n",
    "    p1 = get_column_letter(rc) + '$' + str(s + 2 )\n",
    "    p3 = get_column_letter(rc) + '$' + str(s + 3 )\n",
    "    p4 = get_column_letter(rc) + '$' + str(e + 1)\n",
    "    \n",
    "    start_color = get_column_letter(rc) + str(s + 3 )\n",
    "    end_color = get_column_letter(rc) + str(e + 1)\n",
    "    sheet.conditional_formatting.add(\"%s:%s\" %(start_color,\n",
    "                                               end_color), rule)\n",
    "    \n",
    "    for i in range(step):\n",
    "      p2 = get_column_letter(rc) + str(s + 2 + 1 + i  )\n",
    "      formula = '=IFERROR(ROUND(%s*(%s/SUM(%s:%s)),0),0)' %(p1, p2, p3, p4)\n",
    "      cell = get_column_letter(c+1) + str(s + 2 + 1 + i  )\n",
    "\n",
    "      worksheet[cell] = formula\n",
    "      \n",
    "sheet.delete_cols(1)\n",
    "writer.save()"
   ]
  },
  {
   "attachments": {},
   "cell_type": "markdown",
   "metadata": {},
   "source": [
    "## 不当人任务 ROUND 2 (EX 版本)\n",
    "\n",
    "效能提升 212%  \n",
    "\n",
    " (11 + 2.6) --> (2.8+3.6)\n",
    "\n",
    "TODO:\n",
    "尝试用 np.intersect1d() 优化"
   ]
  },
  {
   "cell_type": "code",
   "execution_count": 17,
   "metadata": {},
   "outputs": [
    {
     "name": "stdout",
     "output_type": "stream",
     "text": [
      "CPU times: user 2 µs, sys: 1e+03 ns, total: 3 µs\n",
      "Wall time: 4.77 µs\n"
     ]
    }
   ],
   "source": [
    "%time\n",
    "import pandas as pd\n",
    "import numpy as np\n",
    "from openpyxl.utils import get_column_letter\n",
    "from openpyxl import load_workbook, Workbook\n",
    "from openpyxl.formatting.rule import DataBarRule\n",
    "\n",
    "data = pd.read_excel('fin_new_vk2.xlsx')\n",
    "data.loc[len(data.index)] = [np.nan for _ in range(data.shape[1])]\n",
    "writer = pd.ExcelWriter('res.xlsx', engine='openpyxl')\n",
    "data.to_excel(writer, sheet_name='Sheet1')\n",
    "\n",
    "workbook = writer.book\n",
    "sheet = workbook.active \n",
    "worksheet = writer.sheets['Sheet1']\n",
    "\n",
    "no_use_cols = ['OEM', 'Brand', 'Vehicle Classification', \n",
    "               'Model family', 'space1', 'space2']\n",
    "nan_ind = data[data[('Model family')].str.contains('ALL', na= True)].index \n",
    "data_use = data.drop(no_use_cols, axis = 1)\n",
    "length =  int(len(data_use.columns) / 2)\n",
    "\n",
    "data_col_ind = np.arange(np.array(data.shape[1]))\n",
    "data_row_ind = np.arange(np.array(data.shape[0]))\n",
    "\n",
    "market_cols = data_use.columns.to_numpy().reshape((2, length))[0]\n",
    "market_ind = data_col_ind[np.isin(data.columns, market_cols)]\n",
    "                                  \n",
    "rate_cols = data_use.columns.to_numpy().reshape((2, length))[1]\n",
    "rate_col_ind = data_col_ind[np.isin(data.columns, rate_cols)]\n",
    "# rate_row_ind = data_row_ind[~np.isin(np.arange(data.shape[0]) + 1, nan_ind)]\n",
    "\n",
    "data[rate_cols] = data.drop(no_use_cols, axis = 1 ).drop( rate_cols, axis = 1)\n",
    "\n",
    "for rri in data_row_ind[~np.isin(np.arange(data.shape[0]) + 1, nan_ind)]: \n",
    "  for rci in rate_col_ind: \n",
    "    worksheet.cell(row = rri + 3 ,column = rci + 2 ).number_format = '0.00%'"
   ]
  },
  {
   "cell_type": "code",
   "execution_count": 18,
   "metadata": {},
   "outputs": [
    {
     "name": "stdout",
     "output_type": "stream",
     "text": [
      "CPU times: user 2 µs, sys: 1 µs, total: 3 µs\n",
      "Wall time: 3.1 µs\n",
      "F3 =IFERROR(ROUND(W$2*(W3/SUM(W$3:W$11)),0),0)\n",
      "F4 =IFERROR(ROUND(W$2*(W4/SUM(W$3:W$11)),0),0)\n",
      "F5 =IFERROR(ROUND(W$2*(W5/SUM(W$3:W$11)),0),0)\n",
      "F6 =IFERROR(ROUND(W$2*(W6/SUM(W$3:W$11)),0),0)\n",
      "F7 =IFERROR(ROUND(W$2*(W7/SUM(W$3:W$11)),0),0)\n",
      "F8 =IFERROR(ROUND(W$2*(W8/SUM(W$3:W$11)),0),0)\n",
      "F9 =IFERROR(ROUND(W$2*(W9/SUM(W$3:W$11)),0),0)\n",
      "F10 =IFERROR(ROUND(W$2*(W10/SUM(W$3:W$11)),0),0)\n",
      "F11 =IFERROR(ROUND(W$2*(W11/SUM(W$3:W$11)),0),0)\n",
      "G3 =IFERROR(ROUND(X$2*(X3/SUM(X$3:X$11)),0),0)\n",
      "G4 =IFERROR(ROUND(X$2*(X4/SUM(X$3:X$11)),0),0)\n",
      "G5 =IFERROR(ROUND(X$2*(X5/SUM(X$3:X$11)),0),0)\n",
      "G6 =IFERROR(ROUND(X$2*(X6/SUM(X$3:X$11)),0),0)\n",
      "G7 =IFERROR(ROUND(X$2*(X7/SUM(X$3:X$11)),0),0)\n",
      "G8 =IFERROR(ROUND(X$2*(X8/SUM(X$3:X$11)),0),0)\n",
      "G9 =IFERROR(ROUND(X$2*(X9/SUM(X$3:X$11)),0),0)\n",
      "G10 =IFERROR(ROUND(X$2*(X10/SUM(X$3:X$11)),0),0)\n",
      "G11 =IFERROR(ROUND(X$2*(X11/SUM(X$3:X$11)),0),0)\n",
      "H3 =IFERROR(ROUND(Y$2*(Y3/SUM(Y$3:Y$11)),0),0)\n",
      "H4 =IFERROR(ROUND(Y$2*(Y4/SUM(Y$3:Y$11)),0),0)\n",
      "H5 =IFERROR(ROUND(Y$2*(Y5/SUM(Y$3:Y$11)),0),0)\n",
      "H6 =IFERROR(ROUND(Y$2*(Y6/SUM(Y$3:Y$11)),0),0)\n",
      "H7 =IFERROR(ROUND(Y$2*(Y7/SUM(Y$3:Y$11)),0),0)\n",
      "H8 =IFERROR(ROUND(Y$2*(Y8/SUM(Y$3:Y$11)),0),0)\n",
      "H9 =IFERROR(ROUND(Y$2*(Y9/SUM(Y$3:Y$11)),0),0)\n",
      "H10 =IFERROR(ROUND(Y$2*(Y10/SUM(Y$3:Y$11)),0),0)\n",
      "H11 =IFERROR(ROUND(Y$2*(Y11/SUM(Y$3:Y$11)),0),0)\n",
      "I3 =IFERROR(ROUND(Z$2*(Z3/SUM(Z$3:Z$11)),0),0)\n",
      "I4 =IFERROR(ROUND(Z$2*(Z4/SUM(Z$3:Z$11)),0),0)\n",
      "I5 =IFERROR(ROUND(Z$2*(Z5/SUM(Z$3:Z$11)),0),0)\n",
      "I6 =IFERROR(ROUND(Z$2*(Z6/SUM(Z$3:Z$11)),0),0)\n",
      "I7 =IFERROR(ROUND(Z$2*(Z7/SUM(Z$3:Z$11)),0),0)\n",
      "I8 =IFERROR(ROUND(Z$2*(Z8/SUM(Z$3:Z$11)),0),0)\n",
      "I9 =IFERROR(ROUND(Z$2*(Z9/SUM(Z$3:Z$11)),0),0)\n",
      "I10 =IFERROR(ROUND(Z$2*(Z10/SUM(Z$3:Z$11)),0),0)\n",
      "I11 =IFERROR(ROUND(Z$2*(Z11/SUM(Z$3:Z$11)),0),0)\n",
      "J3 =IFERROR(ROUND(AA$2*(AA3/SUM(AA$3:AA$11)),0),0)\n",
      "J4 =IFERROR(ROUND(AA$2*(AA4/SUM(AA$3:AA$11)),0),0)\n",
      "J5 =IFERROR(ROUND(AA$2*(AA5/SUM(AA$3:AA$11)),0),0)\n",
      "J6 =IFERROR(ROUND(AA$2*(AA6/SUM(AA$3:AA$11)),0),0)\n",
      "J7 =IFERROR(ROUND(AA$2*(AA7/SUM(AA$3:AA$11)),0),0)\n",
      "J8 =IFERROR(ROUND(AA$2*(AA8/SUM(AA$3:AA$11)),0),0)\n",
      "J9 =IFERROR(ROUND(AA$2*(AA9/SUM(AA$3:AA$11)),0),0)\n",
      "J10 =IFERROR(ROUND(AA$2*(AA10/SUM(AA$3:AA$11)),0),0)\n",
      "J11 =IFERROR(ROUND(AA$2*(AA11/SUM(AA$3:AA$11)),0),0)\n",
      "K3 =IFERROR(ROUND(AB$2*(AB3/SUM(AB$3:AB$11)),0),0)\n",
      "K4 =IFERROR(ROUND(AB$2*(AB4/SUM(AB$3:AB$11)),0),0)\n",
      "K5 =IFERROR(ROUND(AB$2*(AB5/SUM(AB$3:AB$11)),0),0)\n",
      "K6 =IFERROR(ROUND(AB$2*(AB6/SUM(AB$3:AB$11)),0),0)\n",
      "K7 =IFERROR(ROUND(AB$2*(AB7/SUM(AB$3:AB$11)),0),0)\n",
      "K8 =IFERROR(ROUND(AB$2*(AB8/SUM(AB$3:AB$11)),0),0)\n",
      "K9 =IFERROR(ROUND(AB$2*(AB9/SUM(AB$3:AB$11)),0),0)\n",
      "K10 =IFERROR(ROUND(AB$2*(AB10/SUM(AB$3:AB$11)),0),0)\n",
      "K11 =IFERROR(ROUND(AB$2*(AB11/SUM(AB$3:AB$11)),0),0)\n",
      "L3 =IFERROR(ROUND(AC$2*(AC3/SUM(AC$3:AC$11)),0),0)\n",
      "L4 =IFERROR(ROUND(AC$2*(AC4/SUM(AC$3:AC$11)),0),0)\n",
      "L5 =IFERROR(ROUND(AC$2*(AC5/SUM(AC$3:AC$11)),0),0)\n",
      "L6 =IFERROR(ROUND(AC$2*(AC6/SUM(AC$3:AC$11)),0),0)\n",
      "L7 =IFERROR(ROUND(AC$2*(AC7/SUM(AC$3:AC$11)),0),0)\n",
      "L8 =IFERROR(ROUND(AC$2*(AC8/SUM(AC$3:AC$11)),0),0)\n",
      "L9 =IFERROR(ROUND(AC$2*(AC9/SUM(AC$3:AC$11)),0),0)\n",
      "L10 =IFERROR(ROUND(AC$2*(AC10/SUM(AC$3:AC$11)),0),0)\n",
      "L11 =IFERROR(ROUND(AC$2*(AC11/SUM(AC$3:AC$11)),0),0)\n",
      "M3 =IFERROR(ROUND(AD$2*(AD3/SUM(AD$3:AD$11)),0),0)\n",
      "M4 =IFERROR(ROUND(AD$2*(AD4/SUM(AD$3:AD$11)),0),0)\n",
      "M5 =IFERROR(ROUND(AD$2*(AD5/SUM(AD$3:AD$11)),0),0)\n",
      "M6 =IFERROR(ROUND(AD$2*(AD6/SUM(AD$3:AD$11)),0),0)\n",
      "M7 =IFERROR(ROUND(AD$2*(AD7/SUM(AD$3:AD$11)),0),0)\n",
      "M8 =IFERROR(ROUND(AD$2*(AD8/SUM(AD$3:AD$11)),0),0)\n",
      "M9 =IFERROR(ROUND(AD$2*(AD9/SUM(AD$3:AD$11)),0),0)\n",
      "M10 =IFERROR(ROUND(AD$2*(AD10/SUM(AD$3:AD$11)),0),0)\n",
      "M11 =IFERROR(ROUND(AD$2*(AD11/SUM(AD$3:AD$11)),0),0)\n",
      "N3 =IFERROR(ROUND(AE$2*(AE3/SUM(AE$3:AE$11)),0),0)\n",
      "N4 =IFERROR(ROUND(AE$2*(AE4/SUM(AE$3:AE$11)),0),0)\n",
      "N5 =IFERROR(ROUND(AE$2*(AE5/SUM(AE$3:AE$11)),0),0)\n",
      "N6 =IFERROR(ROUND(AE$2*(AE6/SUM(AE$3:AE$11)),0),0)\n",
      "N7 =IFERROR(ROUND(AE$2*(AE7/SUM(AE$3:AE$11)),0),0)\n",
      "N8 =IFERROR(ROUND(AE$2*(AE8/SUM(AE$3:AE$11)),0),0)\n",
      "N9 =IFERROR(ROUND(AE$2*(AE9/SUM(AE$3:AE$11)),0),0)\n",
      "N10 =IFERROR(ROUND(AE$2*(AE10/SUM(AE$3:AE$11)),0),0)\n",
      "N11 =IFERROR(ROUND(AE$2*(AE11/SUM(AE$3:AE$11)),0),0)\n",
      "O3 =IFERROR(ROUND(AF$2*(AF3/SUM(AF$3:AF$11)),0),0)\n",
      "O4 =IFERROR(ROUND(AF$2*(AF4/SUM(AF$3:AF$11)),0),0)\n",
      "O5 =IFERROR(ROUND(AF$2*(AF5/SUM(AF$3:AF$11)),0),0)\n",
      "O6 =IFERROR(ROUND(AF$2*(AF6/SUM(AF$3:AF$11)),0),0)\n",
      "O7 =IFERROR(ROUND(AF$2*(AF7/SUM(AF$3:AF$11)),0),0)\n",
      "O8 =IFERROR(ROUND(AF$2*(AF8/SUM(AF$3:AF$11)),0),0)\n",
      "O9 =IFERROR(ROUND(AF$2*(AF9/SUM(AF$3:AF$11)),0),0)\n",
      "O10 =IFERROR(ROUND(AF$2*(AF10/SUM(AF$3:AF$11)),0),0)\n",
      "O11 =IFERROR(ROUND(AF$2*(AF11/SUM(AF$3:AF$11)),0),0)\n",
      "P3 =IFERROR(ROUND(AG$2*(AG3/SUM(AG$3:AG$11)),0),0)\n",
      "P4 =IFERROR(ROUND(AG$2*(AG4/SUM(AG$3:AG$11)),0),0)\n",
      "P5 =IFERROR(ROUND(AG$2*(AG5/SUM(AG$3:AG$11)),0),0)\n",
      "P6 =IFERROR(ROUND(AG$2*(AG6/SUM(AG$3:AG$11)),0),0)\n",
      "P7 =IFERROR(ROUND(AG$2*(AG7/SUM(AG$3:AG$11)),0),0)\n",
      "P8 =IFERROR(ROUND(AG$2*(AG8/SUM(AG$3:AG$11)),0),0)\n",
      "P9 =IFERROR(ROUND(AG$2*(AG9/SUM(AG$3:AG$11)),0),0)\n",
      "P10 =IFERROR(ROUND(AG$2*(AG10/SUM(AG$3:AG$11)),0),0)\n",
      "P11 =IFERROR(ROUND(AG$2*(AG11/SUM(AG$3:AG$11)),0),0)\n",
      "Q3 =IFERROR(ROUND(AH$2*(AH3/SUM(AH$3:AH$11)),0),0)\n",
      "Q4 =IFERROR(ROUND(AH$2*(AH4/SUM(AH$3:AH$11)),0),0)\n",
      "Q5 =IFERROR(ROUND(AH$2*(AH5/SUM(AH$3:AH$11)),0),0)\n",
      "Q6 =IFERROR(ROUND(AH$2*(AH6/SUM(AH$3:AH$11)),0),0)\n",
      "Q7 =IFERROR(ROUND(AH$2*(AH7/SUM(AH$3:AH$11)),0),0)\n",
      "Q8 =IFERROR(ROUND(AH$2*(AH8/SUM(AH$3:AH$11)),0),0)\n",
      "Q9 =IFERROR(ROUND(AH$2*(AH9/SUM(AH$3:AH$11)),0),0)\n",
      "Q10 =IFERROR(ROUND(AH$2*(AH10/SUM(AH$3:AH$11)),0),0)\n",
      "Q11 =IFERROR(ROUND(AH$2*(AH11/SUM(AH$3:AH$11)),0),0)\n",
      "R3 =IFERROR(ROUND(AI$2*(AI3/SUM(AI$3:AI$11)),0),0)\n",
      "R4 =IFERROR(ROUND(AI$2*(AI4/SUM(AI$3:AI$11)),0),0)\n",
      "R5 =IFERROR(ROUND(AI$2*(AI5/SUM(AI$3:AI$11)),0),0)\n",
      "R6 =IFERROR(ROUND(AI$2*(AI6/SUM(AI$3:AI$11)),0),0)\n",
      "R7 =IFERROR(ROUND(AI$2*(AI7/SUM(AI$3:AI$11)),0),0)\n",
      "R8 =IFERROR(ROUND(AI$2*(AI8/SUM(AI$3:AI$11)),0),0)\n",
      "R9 =IFERROR(ROUND(AI$2*(AI9/SUM(AI$3:AI$11)),0),0)\n",
      "R10 =IFERROR(ROUND(AI$2*(AI10/SUM(AI$3:AI$11)),0),0)\n",
      "R11 =IFERROR(ROUND(AI$2*(AI11/SUM(AI$3:AI$11)),0),0)\n",
      "S3 =IFERROR(ROUND(AJ$2*(AJ3/SUM(AJ$3:AJ$11)),0),0)\n",
      "S4 =IFERROR(ROUND(AJ$2*(AJ4/SUM(AJ$3:AJ$11)),0),0)\n",
      "S5 =IFERROR(ROUND(AJ$2*(AJ5/SUM(AJ$3:AJ$11)),0),0)\n",
      "S6 =IFERROR(ROUND(AJ$2*(AJ6/SUM(AJ$3:AJ$11)),0),0)\n",
      "S7 =IFERROR(ROUND(AJ$2*(AJ7/SUM(AJ$3:AJ$11)),0),0)\n",
      "S8 =IFERROR(ROUND(AJ$2*(AJ8/SUM(AJ$3:AJ$11)),0),0)\n",
      "S9 =IFERROR(ROUND(AJ$2*(AJ9/SUM(AJ$3:AJ$11)),0),0)\n",
      "S10 =IFERROR(ROUND(AJ$2*(AJ10/SUM(AJ$3:AJ$11)),0),0)\n",
      "S11 =IFERROR(ROUND(AJ$2*(AJ11/SUM(AJ$3:AJ$11)),0),0)\n",
      "T3 =IFERROR(ROUND(AK$2*(AK3/SUM(AK$3:AK$11)),0),0)\n",
      "T4 =IFERROR(ROUND(AK$2*(AK4/SUM(AK$3:AK$11)),0),0)\n",
      "T5 =IFERROR(ROUND(AK$2*(AK5/SUM(AK$3:AK$11)),0),0)\n",
      "T6 =IFERROR(ROUND(AK$2*(AK6/SUM(AK$3:AK$11)),0),0)\n",
      "T7 =IFERROR(ROUND(AK$2*(AK7/SUM(AK$3:AK$11)),0),0)\n",
      "T8 =IFERROR(ROUND(AK$2*(AK8/SUM(AK$3:AK$11)),0),0)\n",
      "T9 =IFERROR(ROUND(AK$2*(AK9/SUM(AK$3:AK$11)),0),0)\n",
      "T10 =IFERROR(ROUND(AK$2*(AK10/SUM(AK$3:AK$11)),0),0)\n",
      "T11 =IFERROR(ROUND(AK$2*(AK11/SUM(AK$3:AK$11)),0),0)\n",
      "U3 =IFERROR(ROUND(AL$2*(AL3/SUM(AL$3:AL$11)),0),0)\n",
      "U4 =IFERROR(ROUND(AL$2*(AL4/SUM(AL$3:AL$11)),0),0)\n",
      "U5 =IFERROR(ROUND(AL$2*(AL5/SUM(AL$3:AL$11)),0),0)\n",
      "U6 =IFERROR(ROUND(AL$2*(AL6/SUM(AL$3:AL$11)),0),0)\n",
      "U7 =IFERROR(ROUND(AL$2*(AL7/SUM(AL$3:AL$11)),0),0)\n",
      "U8 =IFERROR(ROUND(AL$2*(AL8/SUM(AL$3:AL$11)),0),0)\n",
      "U9 =IFERROR(ROUND(AL$2*(AL9/SUM(AL$3:AL$11)),0),0)\n",
      "U10 =IFERROR(ROUND(AL$2*(AL10/SUM(AL$3:AL$11)),0),0)\n",
      "U11 =IFERROR(ROUND(AL$2*(AL11/SUM(AL$3:AL$11)),0),0)\n",
      "F14 =IFERROR(ROUND(W$13*(W14/SUM(W$14:W$16)),0),0)\n",
      "F15 =IFERROR(ROUND(W$13*(W15/SUM(W$14:W$16)),0),0)\n",
      "F16 =IFERROR(ROUND(W$13*(W16/SUM(W$14:W$16)),0),0)\n",
      "G14 =IFERROR(ROUND(X$13*(X14/SUM(X$14:X$16)),0),0)\n",
      "G15 =IFERROR(ROUND(X$13*(X15/SUM(X$14:X$16)),0),0)\n",
      "G16 =IFERROR(ROUND(X$13*(X16/SUM(X$14:X$16)),0),0)\n",
      "H14 =IFERROR(ROUND(Y$13*(Y14/SUM(Y$14:Y$16)),0),0)\n",
      "H15 =IFERROR(ROUND(Y$13*(Y15/SUM(Y$14:Y$16)),0),0)\n",
      "H16 =IFERROR(ROUND(Y$13*(Y16/SUM(Y$14:Y$16)),0),0)\n",
      "I14 =IFERROR(ROUND(Z$13*(Z14/SUM(Z$14:Z$16)),0),0)\n",
      "I15 =IFERROR(ROUND(Z$13*(Z15/SUM(Z$14:Z$16)),0),0)\n",
      "I16 =IFERROR(ROUND(Z$13*(Z16/SUM(Z$14:Z$16)),0),0)\n",
      "J14 =IFERROR(ROUND(AA$13*(AA14/SUM(AA$14:AA$16)),0),0)\n",
      "J15 =IFERROR(ROUND(AA$13*(AA15/SUM(AA$14:AA$16)),0),0)\n",
      "J16 =IFERROR(ROUND(AA$13*(AA16/SUM(AA$14:AA$16)),0),0)\n",
      "K14 =IFERROR(ROUND(AB$13*(AB14/SUM(AB$14:AB$16)),0),0)\n",
      "K15 =IFERROR(ROUND(AB$13*(AB15/SUM(AB$14:AB$16)),0),0)\n",
      "K16 =IFERROR(ROUND(AB$13*(AB16/SUM(AB$14:AB$16)),0),0)\n",
      "L14 =IFERROR(ROUND(AC$13*(AC14/SUM(AC$14:AC$16)),0),0)\n",
      "L15 =IFERROR(ROUND(AC$13*(AC15/SUM(AC$14:AC$16)),0),0)\n",
      "L16 =IFERROR(ROUND(AC$13*(AC16/SUM(AC$14:AC$16)),0),0)\n",
      "M14 =IFERROR(ROUND(AD$13*(AD14/SUM(AD$14:AD$16)),0),0)\n",
      "M15 =IFERROR(ROUND(AD$13*(AD15/SUM(AD$14:AD$16)),0),0)\n",
      "M16 =IFERROR(ROUND(AD$13*(AD16/SUM(AD$14:AD$16)),0),0)\n",
      "N14 =IFERROR(ROUND(AE$13*(AE14/SUM(AE$14:AE$16)),0),0)\n",
      "N15 =IFERROR(ROUND(AE$13*(AE15/SUM(AE$14:AE$16)),0),0)\n",
      "N16 =IFERROR(ROUND(AE$13*(AE16/SUM(AE$14:AE$16)),0),0)\n",
      "O14 =IFERROR(ROUND(AF$13*(AF14/SUM(AF$14:AF$16)),0),0)\n",
      "O15 =IFERROR(ROUND(AF$13*(AF15/SUM(AF$14:AF$16)),0),0)\n",
      "O16 =IFERROR(ROUND(AF$13*(AF16/SUM(AF$14:AF$16)),0),0)\n",
      "P14 =IFERROR(ROUND(AG$13*(AG14/SUM(AG$14:AG$16)),0),0)\n",
      "P15 =IFERROR(ROUND(AG$13*(AG15/SUM(AG$14:AG$16)),0),0)\n",
      "P16 =IFERROR(ROUND(AG$13*(AG16/SUM(AG$14:AG$16)),0),0)\n",
      "Q14 =IFERROR(ROUND(AH$13*(AH14/SUM(AH$14:AH$16)),0),0)\n",
      "Q15 =IFERROR(ROUND(AH$13*(AH15/SUM(AH$14:AH$16)),0),0)\n",
      "Q16 =IFERROR(ROUND(AH$13*(AH16/SUM(AH$14:AH$16)),0),0)\n",
      "R14 =IFERROR(ROUND(AI$13*(AI14/SUM(AI$14:AI$16)),0),0)\n",
      "R15 =IFERROR(ROUND(AI$13*(AI15/SUM(AI$14:AI$16)),0),0)\n",
      "R16 =IFERROR(ROUND(AI$13*(AI16/SUM(AI$14:AI$16)),0),0)\n",
      "S14 =IFERROR(ROUND(AJ$13*(AJ14/SUM(AJ$14:AJ$16)),0),0)\n",
      "S15 =IFERROR(ROUND(AJ$13*(AJ15/SUM(AJ$14:AJ$16)),0),0)\n",
      "S16 =IFERROR(ROUND(AJ$13*(AJ16/SUM(AJ$14:AJ$16)),0),0)\n",
      "T14 =IFERROR(ROUND(AK$13*(AK14/SUM(AK$14:AK$16)),0),0)\n",
      "T15 =IFERROR(ROUND(AK$13*(AK15/SUM(AK$14:AK$16)),0),0)\n",
      "T16 =IFERROR(ROUND(AK$13*(AK16/SUM(AK$14:AK$16)),0),0)\n",
      "U14 =IFERROR(ROUND(AL$13*(AL14/SUM(AL$14:AL$16)),0),0)\n",
      "U15 =IFERROR(ROUND(AL$13*(AL15/SUM(AL$14:AL$16)),0),0)\n",
      "U16 =IFERROR(ROUND(AL$13*(AL16/SUM(AL$14:AL$16)),0),0)\n",
      "F19 =IFERROR(ROUND(W$18*(W19/SUM(W$19:W$19)),0),0)\n",
      "G19 =IFERROR(ROUND(X$18*(X19/SUM(X$19:X$19)),0),0)\n",
      "H19 =IFERROR(ROUND(Y$18*(Y19/SUM(Y$19:Y$19)),0),0)\n",
      "I19 =IFERROR(ROUND(Z$18*(Z19/SUM(Z$19:Z$19)),0),0)\n",
      "J19 =IFERROR(ROUND(AA$18*(AA19/SUM(AA$19:AA$19)),0),0)\n",
      "K19 =IFERROR(ROUND(AB$18*(AB19/SUM(AB$19:AB$19)),0),0)\n",
      "L19 =IFERROR(ROUND(AC$18*(AC19/SUM(AC$19:AC$19)),0),0)\n",
      "M19 =IFERROR(ROUND(AD$18*(AD19/SUM(AD$19:AD$19)),0),0)\n",
      "N19 =IFERROR(ROUND(AE$18*(AE19/SUM(AE$19:AE$19)),0),0)\n",
      "O19 =IFERROR(ROUND(AF$18*(AF19/SUM(AF$19:AF$19)),0),0)\n",
      "P19 =IFERROR(ROUND(AG$18*(AG19/SUM(AG$19:AG$19)),0),0)\n",
      "Q19 =IFERROR(ROUND(AH$18*(AH19/SUM(AH$19:AH$19)),0),0)\n",
      "R19 =IFERROR(ROUND(AI$18*(AI19/SUM(AI$19:AI$19)),0),0)\n",
      "S19 =IFERROR(ROUND(AJ$18*(AJ19/SUM(AJ$19:AJ$19)),0),0)\n",
      "T19 =IFERROR(ROUND(AK$18*(AK19/SUM(AK$19:AK$19)),0),0)\n",
      "U19 =IFERROR(ROUND(AL$18*(AL19/SUM(AL$19:AL$19)),0),0)\n",
      "F22 =IFERROR(ROUND(W$21*(W22/SUM(W$22:W$28)),0),0)\n",
      "F23 =IFERROR(ROUND(W$21*(W23/SUM(W$22:W$28)),0),0)\n",
      "F24 =IFERROR(ROUND(W$21*(W24/SUM(W$22:W$28)),0),0)\n",
      "F25 =IFERROR(ROUND(W$21*(W25/SUM(W$22:W$28)),0),0)\n",
      "F26 =IFERROR(ROUND(W$21*(W26/SUM(W$22:W$28)),0),0)\n",
      "F27 =IFERROR(ROUND(W$21*(W27/SUM(W$22:W$28)),0),0)\n",
      "F28 =IFERROR(ROUND(W$21*(W28/SUM(W$22:W$28)),0),0)\n",
      "G22 =IFERROR(ROUND(X$21*(X22/SUM(X$22:X$28)),0),0)\n",
      "G23 =IFERROR(ROUND(X$21*(X23/SUM(X$22:X$28)),0),0)\n",
      "G24 =IFERROR(ROUND(X$21*(X24/SUM(X$22:X$28)),0),0)\n",
      "G25 =IFERROR(ROUND(X$21*(X25/SUM(X$22:X$28)),0),0)\n",
      "G26 =IFERROR(ROUND(X$21*(X26/SUM(X$22:X$28)),0),0)\n",
      "G27 =IFERROR(ROUND(X$21*(X27/SUM(X$22:X$28)),0),0)\n",
      "G28 =IFERROR(ROUND(X$21*(X28/SUM(X$22:X$28)),0),0)\n",
      "H22 =IFERROR(ROUND(Y$21*(Y22/SUM(Y$22:Y$28)),0),0)\n",
      "H23 =IFERROR(ROUND(Y$21*(Y23/SUM(Y$22:Y$28)),0),0)\n",
      "H24 =IFERROR(ROUND(Y$21*(Y24/SUM(Y$22:Y$28)),0),0)\n",
      "H25 =IFERROR(ROUND(Y$21*(Y25/SUM(Y$22:Y$28)),0),0)\n",
      "H26 =IFERROR(ROUND(Y$21*(Y26/SUM(Y$22:Y$28)),0),0)\n",
      "H27 =IFERROR(ROUND(Y$21*(Y27/SUM(Y$22:Y$28)),0),0)\n",
      "H28 =IFERROR(ROUND(Y$21*(Y28/SUM(Y$22:Y$28)),0),0)\n",
      "I22 =IFERROR(ROUND(Z$21*(Z22/SUM(Z$22:Z$28)),0),0)\n",
      "I23 =IFERROR(ROUND(Z$21*(Z23/SUM(Z$22:Z$28)),0),0)\n",
      "I24 =IFERROR(ROUND(Z$21*(Z24/SUM(Z$22:Z$28)),0),0)\n",
      "I25 =IFERROR(ROUND(Z$21*(Z25/SUM(Z$22:Z$28)),0),0)\n",
      "I26 =IFERROR(ROUND(Z$21*(Z26/SUM(Z$22:Z$28)),0),0)\n",
      "I27 =IFERROR(ROUND(Z$21*(Z27/SUM(Z$22:Z$28)),0),0)\n",
      "I28 =IFERROR(ROUND(Z$21*(Z28/SUM(Z$22:Z$28)),0),0)\n",
      "J22 =IFERROR(ROUND(AA$21*(AA22/SUM(AA$22:AA$28)),0),0)\n",
      "J23 =IFERROR(ROUND(AA$21*(AA23/SUM(AA$22:AA$28)),0),0)\n",
      "J24 =IFERROR(ROUND(AA$21*(AA24/SUM(AA$22:AA$28)),0),0)\n",
      "J25 =IFERROR(ROUND(AA$21*(AA25/SUM(AA$22:AA$28)),0),0)\n",
      "J26 =IFERROR(ROUND(AA$21*(AA26/SUM(AA$22:AA$28)),0),0)\n",
      "J27 =IFERROR(ROUND(AA$21*(AA27/SUM(AA$22:AA$28)),0),0)\n",
      "J28 =IFERROR(ROUND(AA$21*(AA28/SUM(AA$22:AA$28)),0),0)\n",
      "K22 =IFERROR(ROUND(AB$21*(AB22/SUM(AB$22:AB$28)),0),0)\n",
      "K23 =IFERROR(ROUND(AB$21*(AB23/SUM(AB$22:AB$28)),0),0)\n",
      "K24 =IFERROR(ROUND(AB$21*(AB24/SUM(AB$22:AB$28)),0),0)\n",
      "K25 =IFERROR(ROUND(AB$21*(AB25/SUM(AB$22:AB$28)),0),0)\n",
      "K26 =IFERROR(ROUND(AB$21*(AB26/SUM(AB$22:AB$28)),0),0)\n",
      "K27 =IFERROR(ROUND(AB$21*(AB27/SUM(AB$22:AB$28)),0),0)\n",
      "K28 =IFERROR(ROUND(AB$21*(AB28/SUM(AB$22:AB$28)),0),0)\n",
      "L22 =IFERROR(ROUND(AC$21*(AC22/SUM(AC$22:AC$28)),0),0)\n",
      "L23 =IFERROR(ROUND(AC$21*(AC23/SUM(AC$22:AC$28)),0),0)\n",
      "L24 =IFERROR(ROUND(AC$21*(AC24/SUM(AC$22:AC$28)),0),0)\n",
      "L25 =IFERROR(ROUND(AC$21*(AC25/SUM(AC$22:AC$28)),0),0)\n",
      "L26 =IFERROR(ROUND(AC$21*(AC26/SUM(AC$22:AC$28)),0),0)\n",
      "L27 =IFERROR(ROUND(AC$21*(AC27/SUM(AC$22:AC$28)),0),0)\n",
      "L28 =IFERROR(ROUND(AC$21*(AC28/SUM(AC$22:AC$28)),0),0)\n",
      "M22 =IFERROR(ROUND(AD$21*(AD22/SUM(AD$22:AD$28)),0),0)\n",
      "M23 =IFERROR(ROUND(AD$21*(AD23/SUM(AD$22:AD$28)),0),0)\n",
      "M24 =IFERROR(ROUND(AD$21*(AD24/SUM(AD$22:AD$28)),0),0)\n",
      "M25 =IFERROR(ROUND(AD$21*(AD25/SUM(AD$22:AD$28)),0),0)\n",
      "M26 =IFERROR(ROUND(AD$21*(AD26/SUM(AD$22:AD$28)),0),0)\n",
      "M27 =IFERROR(ROUND(AD$21*(AD27/SUM(AD$22:AD$28)),0),0)\n",
      "M28 =IFERROR(ROUND(AD$21*(AD28/SUM(AD$22:AD$28)),0),0)\n",
      "N22 =IFERROR(ROUND(AE$21*(AE22/SUM(AE$22:AE$28)),0),0)\n",
      "N23 =IFERROR(ROUND(AE$21*(AE23/SUM(AE$22:AE$28)),0),0)\n",
      "N24 =IFERROR(ROUND(AE$21*(AE24/SUM(AE$22:AE$28)),0),0)\n",
      "N25 =IFERROR(ROUND(AE$21*(AE25/SUM(AE$22:AE$28)),0),0)\n",
      "N26 =IFERROR(ROUND(AE$21*(AE26/SUM(AE$22:AE$28)),0),0)\n",
      "N27 =IFERROR(ROUND(AE$21*(AE27/SUM(AE$22:AE$28)),0),0)\n",
      "N28 =IFERROR(ROUND(AE$21*(AE28/SUM(AE$22:AE$28)),0),0)\n",
      "O22 =IFERROR(ROUND(AF$21*(AF22/SUM(AF$22:AF$28)),0),0)\n",
      "O23 =IFERROR(ROUND(AF$21*(AF23/SUM(AF$22:AF$28)),0),0)\n",
      "O24 =IFERROR(ROUND(AF$21*(AF24/SUM(AF$22:AF$28)),0),0)\n",
      "O25 =IFERROR(ROUND(AF$21*(AF25/SUM(AF$22:AF$28)),0),0)\n",
      "O26 =IFERROR(ROUND(AF$21*(AF26/SUM(AF$22:AF$28)),0),0)\n",
      "O27 =IFERROR(ROUND(AF$21*(AF27/SUM(AF$22:AF$28)),0),0)\n",
      "O28 =IFERROR(ROUND(AF$21*(AF28/SUM(AF$22:AF$28)),0),0)\n",
      "P22 =IFERROR(ROUND(AG$21*(AG22/SUM(AG$22:AG$28)),0),0)\n",
      "P23 =IFERROR(ROUND(AG$21*(AG23/SUM(AG$22:AG$28)),0),0)\n",
      "P24 =IFERROR(ROUND(AG$21*(AG24/SUM(AG$22:AG$28)),0),0)\n",
      "P25 =IFERROR(ROUND(AG$21*(AG25/SUM(AG$22:AG$28)),0),0)\n",
      "P26 =IFERROR(ROUND(AG$21*(AG26/SUM(AG$22:AG$28)),0),0)\n",
      "P27 =IFERROR(ROUND(AG$21*(AG27/SUM(AG$22:AG$28)),0),0)\n",
      "P28 =IFERROR(ROUND(AG$21*(AG28/SUM(AG$22:AG$28)),0),0)\n",
      "Q22 =IFERROR(ROUND(AH$21*(AH22/SUM(AH$22:AH$28)),0),0)\n",
      "Q23 =IFERROR(ROUND(AH$21*(AH23/SUM(AH$22:AH$28)),0),0)\n",
      "Q24 =IFERROR(ROUND(AH$21*(AH24/SUM(AH$22:AH$28)),0),0)\n",
      "Q25 =IFERROR(ROUND(AH$21*(AH25/SUM(AH$22:AH$28)),0),0)\n",
      "Q26 =IFERROR(ROUND(AH$21*(AH26/SUM(AH$22:AH$28)),0),0)\n",
      "Q27 =IFERROR(ROUND(AH$21*(AH27/SUM(AH$22:AH$28)),0),0)\n",
      "Q28 =IFERROR(ROUND(AH$21*(AH28/SUM(AH$22:AH$28)),0),0)\n",
      "R22 =IFERROR(ROUND(AI$21*(AI22/SUM(AI$22:AI$28)),0),0)\n",
      "R23 =IFERROR(ROUND(AI$21*(AI23/SUM(AI$22:AI$28)),0),0)\n",
      "R24 =IFERROR(ROUND(AI$21*(AI24/SUM(AI$22:AI$28)),0),0)\n",
      "R25 =IFERROR(ROUND(AI$21*(AI25/SUM(AI$22:AI$28)),0),0)\n",
      "R26 =IFERROR(ROUND(AI$21*(AI26/SUM(AI$22:AI$28)),0),0)\n",
      "R27 =IFERROR(ROUND(AI$21*(AI27/SUM(AI$22:AI$28)),0),0)\n",
      "R28 =IFERROR(ROUND(AI$21*(AI28/SUM(AI$22:AI$28)),0),0)\n",
      "S22 =IFERROR(ROUND(AJ$21*(AJ22/SUM(AJ$22:AJ$28)),0),0)\n",
      "S23 =IFERROR(ROUND(AJ$21*(AJ23/SUM(AJ$22:AJ$28)),0),0)\n",
      "S24 =IFERROR(ROUND(AJ$21*(AJ24/SUM(AJ$22:AJ$28)),0),0)\n",
      "S25 =IFERROR(ROUND(AJ$21*(AJ25/SUM(AJ$22:AJ$28)),0),0)\n",
      "S26 =IFERROR(ROUND(AJ$21*(AJ26/SUM(AJ$22:AJ$28)),0),0)\n",
      "S27 =IFERROR(ROUND(AJ$21*(AJ27/SUM(AJ$22:AJ$28)),0),0)\n",
      "S28 =IFERROR(ROUND(AJ$21*(AJ28/SUM(AJ$22:AJ$28)),0),0)\n",
      "T22 =IFERROR(ROUND(AK$21*(AK22/SUM(AK$22:AK$28)),0),0)\n",
      "T23 =IFERROR(ROUND(AK$21*(AK23/SUM(AK$22:AK$28)),0),0)\n",
      "T24 =IFERROR(ROUND(AK$21*(AK24/SUM(AK$22:AK$28)),0),0)\n",
      "T25 =IFERROR(ROUND(AK$21*(AK25/SUM(AK$22:AK$28)),0),0)\n",
      "T26 =IFERROR(ROUND(AK$21*(AK26/SUM(AK$22:AK$28)),0),0)\n",
      "T27 =IFERROR(ROUND(AK$21*(AK27/SUM(AK$22:AK$28)),0),0)\n",
      "T28 =IFERROR(ROUND(AK$21*(AK28/SUM(AK$22:AK$28)),0),0)\n",
      "U22 =IFERROR(ROUND(AL$21*(AL22/SUM(AL$22:AL$28)),0),0)\n",
      "U23 =IFERROR(ROUND(AL$21*(AL23/SUM(AL$22:AL$28)),0),0)\n",
      "U24 =IFERROR(ROUND(AL$21*(AL24/SUM(AL$22:AL$28)),0),0)\n",
      "U25 =IFERROR(ROUND(AL$21*(AL25/SUM(AL$22:AL$28)),0),0)\n",
      "U26 =IFERROR(ROUND(AL$21*(AL26/SUM(AL$22:AL$28)),0),0)\n",
      "U27 =IFERROR(ROUND(AL$21*(AL27/SUM(AL$22:AL$28)),0),0)\n",
      "U28 =IFERROR(ROUND(AL$21*(AL28/SUM(AL$22:AL$28)),0),0)\n"
     ]
    }
   ],
   "source": [
    "%time\n",
    "star_ind = data[data[('Model family')] =='ALL'].index \n",
    "end_ind = nan_ind[~np.isin(nan_ind, star_ind)].tolist()\n",
    "steps_list = (end_ind - star_ind ) -1 \n",
    "\n",
    "rule = DataBarRule(start_type='num', end_type='num', \n",
    "                   start_value=0, end_value=1, color= 'BDB76B')\n",
    "\n",
    "row_int, col_int = 1, 2\n",
    "\n",
    "for s, e, step in zip(star_ind, end_ind, steps_list):\n",
    "  for rc, c in zip(rate_col_ind, market_ind):\n",
    "    \n",
    "    p1 = get_column_letter(rc+row_int) + '$' + str(s + 2 )\n",
    "    p3 = get_column_letter(rc+row_int) + '$' + str(s + 3 )\n",
    "    p4 = get_column_letter(rc+row_int) + '$' + str(e + 1)\n",
    "    \n",
    "    start_color = get_column_letter(rc+row_int) + str(s + 3 )\n",
    "    end_color = get_column_letter(rc+row_int) + str(e + 1)\n",
    "    sheet.conditional_formatting.add(\"%s:%s\" %(start_color,\n",
    "                                               end_color), rule)\n",
    "    \n",
    "    for i in range(step):\n",
    "      p2 = get_column_letter(rc+row_int) + str(s + col_int + row_int + i  )\n",
    "      formula = '=IFERROR(ROUND(%s*(%s/SUM(%s:%s)),0),0)' %(p1, p2, p3, p4)\n",
    "      cell = get_column_letter(c+col_int) + str(s + col_int + row_int + i )\n",
    "      print(cell, formula)\n",
    "      worksheet[cell] = formula\n",
    "      \n",
    "sheet.delete_cols(1)\n",
    "writer.save()"
   ]
  },
  {
   "attachments": {},
   "cell_type": "markdown",
   "metadata": {},
   "source": [
    "## 不当人任务 ROUND 2 (最終版本)\n",
    "\n",
    "效能提升 438%"
   ]
  },
  {
   "cell_type": "code",
   "execution_count": 20,
   "metadata": {},
   "outputs": [
    {
     "name": "stdout",
     "output_type": "stream",
     "text": [
      "CPU times: user 2 µs, sys: 0 ns, total: 2 µs\n",
      "Wall time: 2.62 µs\n"
     ]
    }
   ],
   "source": [
    "%time\n",
    "import pandas as pd\n",
    "import numpy as np\n",
    "from openpyxl.utils import get_column_letter\n",
    "from openpyxl import load_workbook, Workbook\n",
    "from openpyxl.formatting.rule import DataBarRule\n",
    "\n",
    "data = pd.read_excel('fin_new_vk2.xlsx')\n",
    "data.loc[len(data.index)] = [np.nan for _ in range(data.shape[1])]\n",
    "writer = pd.ExcelWriter('res.xlsx', engine='openpyxl')\n",
    "data.to_excel(writer, sheet_name='Sheet1')\n",
    "\n",
    "workbook = writer.book\n",
    "sheet = workbook.active \n",
    "worksheet = writer.sheets['Sheet1']\n",
    "\n",
    "no_use_cols = ['OEM', 'Brand', 'Vehicle Classification', \n",
    "               'Model family', 'space1', 'space2']\n",
    "nan_ind = data[data[('Model family')].str.contains('ALL', na= True)].index \n",
    "\n",
    "df = pd.DataFrame()\n",
    "df['Name'] = data.columns\n",
    "df['Ind'] = np.arange(data.shape[1]) + 1\n",
    "df['Letter'] = [get_column_letter(i+1) for i in range(data.shape[1])]\n",
    "\n",
    "rate_cols = df[df['Name'].str.contains('-r')]\n",
    "market_cols = df.loc[(~(np.isin(df['Name'], no_use_cols)) & \n",
    "                     (~df['Name'].str.contains('-r')))]\n",
    "\n",
    "data[rate_cols.Name] =  data[market_cols.Name]\n",
    "\n",
    "df_row = pd.DataFrame()\n",
    "df_row['ROW'] = np.arange(data.shape[0] ) + 1\n",
    "df_row['All_nan'] = data[('Model family')].str.contains('ALL').astype(str)\n",
    "\n",
    "star_ind = df_row[df_row.All_nan == 'True']['ROW'].values\n",
    "end_ind = df_row[df_row.All_nan == 'nan']['ROW'].values\n",
    "steps_list = (end_ind - star_ind ) -1 \n",
    "\n",
    "rule = DataBarRule(start_type='num', end_type='num', \n",
    "                   start_value=0, end_value=1, color= 'BDB76B')\n",
    "col_int = 2\n",
    "\n",
    "for rri in df[df['Name'].str.contains('-r')]['Ind']:\n",
    "  for rci in df_row[df_row['All_nan'] == 'False']['ROW']:\n",
    "    worksheet.cell(row = rci + 1 ,column = rri + 1 ).number_format = '0.00%'\n",
    "\n",
    "\n",
    "for s, e, step in zip(star_ind, end_ind, steps_list):\n",
    "  for rc, c in zip(market_cols['Ind'], rate_cols['Letter']):\n",
    "\n",
    "    p1, p3, p4 = c+'$'+str(s+1), c+'$'+ str(s+2), c+'$'+str(e+ 1)\n",
    "    start_color, end_color = c + str(s + 2 ), c + str(e + 1)\n",
    "    sheet.conditional_formatting.add(\"%s:%s\" %(start_color, end_color), rule)\n",
    "\n",
    "    for i in range(step):\n",
    "      p2 = c + str(s+col_int+i)\n",
    "      cell = get_column_letter(rc + 1)  + str(s + col_int  + i)\n",
    "      worksheet[cell] = '=IFERROR(ROUND(%s*(%s/SUM(%s:%s)),0),0)'%(p1,p2,p3,p4)\n",
    "      \n",
    "sheet.delete_cols(1)\n",
    "writer.save()"
   ]
  }
 ],
 "metadata": {
  "kernelspec": {
   "display_name": "Python 3 (ipykernel)",
   "language": "python",
   "name": "python3"
  },
  "language_info": {
   "codemirror_mode": {
    "name": "ipython",
    "version": 3
   },
   "file_extension": ".py",
   "mimetype": "text/x-python",
   "name": "python",
   "nbconvert_exporter": "python",
   "pygments_lexer": "ipython3",
   "version": "3.7.16"
  },
  "vscode": {
   "interpreter": {
    "hash": "b0434f7d40af6f1ae47901b08a77305924291e47ef5b554f3460472bcd1f7668"
   }
  }
 },
 "nbformat": 4,
 "nbformat_minor": 4
}
