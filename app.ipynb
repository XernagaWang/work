{
 "cells": [
  {
   "cell_type": "code",
   "execution_count": null,
   "metadata": {},
   "outputs": [],
   "source": [
    "import pandas as pd \n",
    "import os"
   ]
  },
  {
   "cell_type": "code",
   "execution_count": null,
   "metadata": {},
   "outputs": [],
   "source": [
    "path = 'new_concat_v2'\n",
    "file_list = os.listdir(path)\n",
    "print('一共 %d 個文件' %(len(file_list)))"
   ]
  },
  {
   "cell_type": "code",
   "execution_count": null,
   "metadata": {},
   "outputs": [],
   "source": [
    "data_list = []\n",
    "\n",
    "for file in file_list:\n",
    "    data = pd.read_excel( path + \"/\" + file, sheet_name= 'Sheet1')\n",
    "    data['SOURCE'] = file[:-5]\n",
    "    data_list.append(data)"
   ]
  },
  {
   "cell_type": "code",
   "execution_count": null,
   "metadata": {},
   "outputs": [],
   "source": [
    "df = pd.concat(data_list, axis= 0)\n",
    "print(df.shape[0])\n",
    "df.head()"
   ]
  },
  {
   "cell_type": "code",
   "execution_count": null,
   "metadata": {},
   "outputs": [],
   "source": [
    "one_solid =  df['多媒体配置_后排液晶屏幕'] == '●'\n",
    "\n",
    "\n",
    "df['多媒体配置_后排液晶屏幕_實心'] = ''\n",
    "df.loc[one_solid, '多媒体配置_后排液晶屏幕_實心'] = 6\n",
    "\n",
    "df[['多媒体配置_后排液晶屏幕', '多媒体配置_后排液晶屏幕_實心']]"
   ]
  },
  {
   "cell_type": "code",
   "execution_count": null,
   "metadata": {},
   "outputs": [],
   "source": [
    "# col1, col2 =  '多媒体配置_中控屏幕尺寸', '内部配置_液晶仪表尺寸'\t\n",
    "\n",
    "# df['多媒体配置_中控屏幕尺寸'].str.extract(r'(\\d+\\.?\\d*)').values"
   ]
  },
  {
   "cell_type": "code",
   "execution_count": null,
   "metadata": {},
   "outputs": [],
   "source": [
    "df['多媒体配置_中控屏幕尺寸'] = df['多媒体配置_中控屏幕尺寸'].fillna('A')\n",
    "df.loc[df['多媒体配置_中控屏幕尺寸'] == 0, '多媒体配置_中控屏幕尺寸'] = 'A'\n",
    "df.loc[df['多媒体配置_中控屏幕尺寸'] == '0',  '多媒体配置_中控屏幕尺寸'] = 'A'\n",
    "\n",
    "\n",
    "one_solid = (((df['多媒体配置_中控屏幕尺寸'].str.count('●')) == 1) & ~(df['多媒体配置_中控屏幕尺寸'].str.contains('○')))\n",
    "two_solid = (((df['多媒体配置_中控屏幕尺寸'].str.count('●')) == 2) & ~(df['多媒体配置_中控屏幕尺寸'].str.contains('○')))\n",
    "\n",
    "solid_hollow = ((df['多媒体配置_中控屏幕尺寸'].str.startswith('●')) & (df['多媒体配置_中控屏幕尺寸'].str.contains('○')))\n",
    "hollow_solid = ((df['多媒体配置_中控屏幕尺寸'].str.startswith('○')) & (df['多媒体配置_中控屏幕尺寸'].str.contains('●')))\n",
    "\n",
    "\n",
    "one_hollow = (((df['多媒体配置_中控屏幕尺寸'].str.count('○')) == 1) & ~(df['多媒体配置_中控屏幕尺寸'].str.contains('●')))\n",
    "two_hollow = (((df['多媒体配置_中控屏幕尺寸'].str.count('○')) == 2) & ~(df['多媒体配置_中控屏幕尺寸'].str.contains('●')))\n",
    "\n",
    "solid_double = df['多媒体配置_中控屏幕尺寸'].str.contains('●双') \n",
    "hollow_double = df['多媒体配置_中控屏幕尺寸'].str.contains('○双') \n",
    "\n",
    "df['多媒体配置_中控屏幕尺寸_实心1'] = ''\n",
    "df['多媒体配置_中控屏幕尺寸_实心2'] = ''\n",
    "df['多媒体配置_中控屏幕尺寸_实心3'] = ''\n",
    "df['多媒体配置_中控屏幕尺寸_空心1'] = ''\n",
    "df['多媒体配置_中控屏幕尺寸_空心2'] = ''\n",
    "\n",
    "df.loc[one_solid, '多媒体配置_中控屏幕尺寸_实心1'] = df.loc[one_solid]['多媒体配置_中控屏幕尺寸'].str.extract(r'(\\d+\\.?\\d*)').values\n",
    "\n",
    "df.loc[two_solid, '多媒体配置_中控屏幕尺寸_实心1'] = df.loc[two_solid]['多媒体配置_中控屏幕尺寸'].str.split('●', expand= True)[1].str.extract(r'(\\d+\\.?\\d*)').values\n",
    "df.loc[two_solid, '多媒体配置_中控屏幕尺寸_实心2'] = df.loc[two_solid]['多媒体配置_中控屏幕尺寸'].str.split('●', expand= True)[2].str.extract(r'(\\d+\\.?\\d*)').values\n",
    "\n",
    "df.loc[solid_hollow, '多媒体配置_中控屏幕尺寸_实心1'] = df.loc[solid_hollow]['多媒体配置_中控屏幕尺寸'].str.split('○', expand= True)[0].str.extract(r'(\\d+\\.?\\d*)').values\n",
    "df.loc[solid_hollow, '多媒体配置_中控屏幕尺寸_空心1'] = df.loc[solid_hollow]['多媒体配置_中控屏幕尺寸'].str.split('○', expand= True)[1].str.extract(r'(\\d+\\.?\\d*)').values\n",
    "\n",
    "df.loc[hollow_solid, '多媒体配置_中控屏幕尺寸_空心1'] = df.loc[hollow_solid]['多媒体配置_中控屏幕尺寸'].str.split('●', expand= True)[0].str.extract(r'(\\d+\\.?\\d*)').values\n",
    "df.loc[hollow_solid, '多媒体配置_中控屏幕尺寸_实心1'] = df.loc[hollow_solid]['多媒体配置_中控屏幕尺寸'].str.split('●', expand= True)[1].str.extract(r'(\\d+\\.?\\d*)').values\n",
    "\n",
    "df.loc[one_hollow, '多媒体配置_中控屏幕尺寸_空心1'] = df.loc[one_hollow]['多媒体配置_中控屏幕尺寸'].str.extract(r'(\\d+\\.?\\d*)').values\n",
    "\n",
    "df.loc[two_hollow, '多媒体配置_中控屏幕尺寸_空心1'] = df.loc[two_hollow]['多媒体配置_中控屏幕尺寸'].str.split('○', expand= True)[1].str.extract(r'(\\d+\\.?\\d*)').values\n",
    "df.loc[two_hollow, '多媒体配置_中控屏幕尺寸_空心2'] = df.loc[two_hollow]['多媒体配置_中控屏幕尺寸'].str.split('○', expand= True)[2].str.extract(r'(\\d+\\.?\\d*)').values\n",
    "\n",
    "\n",
    "df.loc[solid_double, '多媒体配置_中控屏幕尺寸_实心1'] = df.loc[solid_double]['多媒体配置_中控屏幕尺寸'].str.split('英寸', expand= True)[0].str.extract(r'(\\d+\\.?\\d*)').values\n",
    "df.loc[solid_double, '多媒体配置_中控屏幕尺寸_实心2'] = df.loc[solid_double]['多媒体配置_中控屏幕尺寸'].str.split('英寸', expand= True)[0].str.extract(r'(\\d+\\.?\\d*)').values\n",
    "df.loc[solid_double, '多媒体配置_中控屏幕尺寸_实心3'] = df.loc[solid_double]['多媒体配置_中控屏幕尺寸'].str.split('英寸', expand= True)[1].str.extract(r'(\\d+\\.?\\d*)').values\n",
    "\n",
    "df.loc[hollow_double, '多媒体配置_中控屏幕尺寸_空心1'] = df.loc[hollow_double]['多媒体配置_中控屏幕尺寸'].str.split('英寸', expand= True)[1].str.extract(r'(\\d+\\.?\\d*)').values\n",
    "df.loc[hollow_double, '多媒体配置_中控屏幕尺寸_空心2'] = df.loc[hollow_double]['多媒体配置_中控屏幕尺寸'].str.split('英寸', expand= True)[1].str.extract(r'(\\d+\\.?\\d*)').values"
   ]
  },
  {
   "cell_type": "code",
   "execution_count": null,
   "metadata": {},
   "outputs": [],
   "source": [
    "# df[['多媒体配置_中控屏幕尺寸', '多媒体配置_中控屏幕尺寸_实心1', '多媒体配置_中控屏幕尺寸_实心2']]\n",
    "# df.loc[hollow_solid]['多媒体配置_中控屏幕尺寸'].str.split('●', expand= True)\n",
    "# df.loc[one_solid]['多媒体配置_中控屏幕尺寸']\n",
    "\n",
    "# df.loc[hollow_double]['多媒体配置_中控屏幕尺寸'].str.split('英寸', expand= True)\n",
    "\n",
    "df.loc[hollow_solid][['多媒体配置_中控屏幕尺寸', '多媒体配置_中控屏幕尺寸_实心1', '多媒体配置_中控屏幕尺寸_实心2', '多媒体配置_中控屏幕尺寸_实心3', '多媒体配置_中控屏幕尺寸_空心1', '多媒体配置_中控屏幕尺寸_空心2' ]]"
   ]
  },
  {
   "cell_type": "code",
   "execution_count": null,
   "metadata": {},
   "outputs": [],
   "source": [
    "df['内部配置_液晶仪表尺寸'] = df['内部配置_液晶仪表尺寸'].fillna('A')\n",
    "df.loc[df['内部配置_液晶仪表尺寸'] == 0, '内部配置_液晶仪表尺寸'] = 'A'\n",
    "df.loc[df['内部配置_液晶仪表尺寸'] == '0',  '内部配置_液晶仪表尺寸'] = 'A'\n",
    "\n",
    "\n",
    "one_solid = (((df['内部配置_液晶仪表尺寸'].str.count('●')) == 1) & ~(df['内部配置_液晶仪表尺寸'].str.contains('○')))\n",
    "two_solid = (((df['内部配置_液晶仪表尺寸'].str.count('●')) == 2) & ~(df['内部配置_液晶仪表尺寸'].str.contains('○')))\n",
    "\n",
    "solid_hollow = ((df['内部配置_液晶仪表尺寸'].str.startswith('●')) & (df['内部配置_液晶仪表尺寸'].str.contains('○')))\n",
    "hollow_solid = ((df['内部配置_液晶仪表尺寸'].str.startswith('○')) & (df['内部配置_液晶仪表尺寸'].str.contains('●')))\n",
    "\n",
    "\n",
    "one_hollow = (((df['内部配置_液晶仪表尺寸'].str.count('○')) == 1) & ~(df['内部配置_液晶仪表尺寸'].str.contains('●')))\n",
    "two_hollow = (((df['内部配置_液晶仪表尺寸'].str.count('○')) == 2) & ~(df['内部配置_液晶仪表尺寸'].str.contains('●')))\n",
    "\n",
    "solid_double = df['内部配置_液晶仪表尺寸'].str.contains('●双') \n",
    "hollow_double = df['内部配置_液晶仪表尺寸'].str.contains('○双') \n",
    "\n",
    "df['内部配置_液晶仪表尺寸_实心1'] = ''\n",
    "df['内部配置_液晶仪表尺寸_实心2'] = ''\n",
    "df['内部配置_液晶仪表尺寸_实心3'] = ''\n",
    "df['内部配置_液晶仪表尺寸_空心1'] = ''\n",
    "df['内部配置_液晶仪表尺寸_空心2'] = ''\n",
    "\n",
    "df.loc[one_solid, '内部配置_液晶仪表尺寸_实心1'] = df.loc[one_solid]['内部配置_液晶仪表尺寸'].str.extract(r'(\\d+\\.?\\d*)').values\n",
    "\n",
    "df.loc[two_solid, '内部配置_液晶仪表尺寸_实心1'] = df.loc[two_solid]['内部配置_液晶仪表尺寸'].str.split('●', expand= True)[1].str.extract(r'(\\d+\\.?\\d*)').values\n",
    "df.loc[two_solid, '内部配置_液晶仪表尺寸_实心2'] = df.loc[two_solid]['内部配置_液晶仪表尺寸'].str.split('●', expand= True)[2].str.extract(r'(\\d+\\.?\\d*)').values\n",
    "\n",
    "df.loc[solid_hollow, '内部配置_液晶仪表尺寸_实心1'] = df.loc[solid_hollow]['内部配置_液晶仪表尺寸'].str.split('○', expand= True)[0].str.extract(r'(\\d+\\.?\\d*)').values\n",
    "df.loc[solid_hollow, '内部配置_液晶仪表尺寸_空心1'] = df.loc[solid_hollow]['内部配置_液晶仪表尺寸'].str.split('○', expand= True)[1].str.extract(r'(\\d+\\.?\\d*)').values\n",
    "\n",
    "df.loc[hollow_solid, '内部配置_液晶仪表尺寸_空心1'] = df.loc[hollow_solid]['内部配置_液晶仪表尺寸'].str.split('●', expand= True)[0].str.extract(r'(\\d+\\.?\\d*)').values\n",
    "df.loc[hollow_solid, '内部配置_液晶仪表尺寸_实心1'] = df.loc[hollow_solid]['内部配置_液晶仪表尺寸'].str.split('●', expand= True)[1].str.extract(r'(\\d+\\.?\\d*)').values\n",
    "\n",
    "df.loc[one_hollow, '内部配置_液晶仪表尺寸_空心1'] = df.loc[one_hollow]['内部配置_液晶仪表尺寸'].str.extract(r'(\\d+\\.?\\d*)').values\n",
    "\n",
    "\n",
    "\n",
    "df.loc[solid_double, '内部配置_液晶仪表尺寸_实心1'] = df.loc[solid_double]['内部配置_液晶仪表尺寸'].str.split('英寸', expand= True)[0].str.extract(r'(\\d+\\.?\\d*)').values\n",
    "df.loc[solid_double, '内部配置_液晶仪表尺寸_实心2'] = df.loc[solid_double]['内部配置_液晶仪表尺寸'].str.split('英寸', expand= True)[0].str.extract(r'(\\d+\\.?\\d*)').values\n",
    "df.loc[solid_double, '内部配置_液晶仪表尺寸_实心3'] = df.loc[solid_double]['内部配置_液晶仪表尺寸'].str.split('英寸', expand= True)[1].str.extract(r'(\\d+\\.?\\d*)').values\n"
   ]
  },
  {
   "cell_type": "code",
   "execution_count": null,
   "metadata": {},
   "outputs": [],
   "source": [
    "df.loc[hollow_solid][['内部配置_液晶仪表尺寸', '内部配置_液晶仪表尺寸_实心1', '内部配置_液晶仪表尺寸_实心2', '内部配置_液晶仪表尺寸_实心3', '内部配置_液晶仪表尺寸_空心1', '内部配置_液晶仪表尺寸_空心2' ]]"
   ]
  },
  {
   "cell_type": "code",
   "execution_count": null,
   "metadata": {},
   "outputs": [],
   "source": [
    "df.loc[hollow_solid]['内部配置_液晶仪表尺寸_空心1'].str.extract(r'(\\d+\\.?\\d*)').values"
   ]
  },
  {
   "cell_type": "code",
   "execution_count": null,
   "metadata": {},
   "outputs": [],
   "source": [
    "df.to_excel('res.xlsx', index= False)"
   ]
  },
  {
   "attachments": {},
   "cell_type": "markdown",
   "metadata": {},
   "source": [
    "## 封裝代碼"
   ]
  },
  {
   "cell_type": "code",
   "execution_count": null,
   "metadata": {},
   "outputs": [],
   "source": [
    "import pandas as pd \n",
    "import os"
   ]
  },
  {
   "cell_type": "code",
   "execution_count": null,
   "metadata": {},
   "outputs": [],
   "source": [
    "path = 'new_concat_v2'\n",
    "file_list = os.listdir(path)\n",
    "print('一共 %d 個文件' %len(file_list))"
   ]
  },
  {
   "cell_type": "code",
   "execution_count": null,
   "metadata": {},
   "outputs": [],
   "source": [
    "data_list = []\n",
    "\n",
    "for file in file_list:\n",
    "    data = pd.read_excel( path + \"/\" + file, sheet_name= 'Sheet1')\n",
    "    data['SOURCE'] = file[:-5]\n",
    "    data_list.append(data)"
   ]
  },
  {
   "cell_type": "code",
   "execution_count": null,
   "metadata": {},
   "outputs": [],
   "source": [
    "df = pd.concat(data_list, axis= 0)\n",
    "df.shape"
   ]
  },
  {
   "cell_type": "code",
   "execution_count": null,
   "metadata": {},
   "outputs": [],
   "source": [
    "one_solid =  df['多媒体配置_后排液晶屏幕'] == '●'\n",
    "\n",
    "\n",
    "df['多媒体配置_后排液晶屏幕_实心'] = ''\n",
    "df.loc[one_solid, '多媒体配置_后排液晶屏幕_实心'] = 6"
   ]
  },
  {
   "cell_type": "code",
   "execution_count": null,
   "metadata": {},
   "outputs": [],
   "source": [
    "def fill_nan_0(data, col):\n",
    "    data[col] = data[col].fillna('A')\n",
    "    data.loc[df[col] == 0, col] = 'A'\n",
    "    data.loc[df[col] == '0',  col] = 'A'\n",
    "    \n",
    "    return data\n",
    "\n",
    "df = fill_nan_0(df, '多媒体配置_中控屏幕尺寸')\n",
    "df = fill_nan_0(df, '内部配置_液晶仪表尺寸')"
   ]
  },
  {
   "cell_type": "code",
   "execution_count": null,
   "metadata": {},
   "outputs": [],
   "source": [
    "def diagnosis(data, col):\n",
    "    \n",
    "    max_solid_counts = data[col].str.count('●').max()\n",
    "    max_hollow_counts = data[col].str.count('○').max()\n",
    "    double_counts =  data[col].str.count('双').max()\n",
    "    print('最大实心数量 %d' %max_solid_counts)\n",
    "    print('最大空心数量 %d' %max_hollow_counts)\n",
    "    print('最大雙数量 %d' %double_counts)"
   ]
  },
  {
   "cell_type": "code",
   "execution_count": null,
   "metadata": {},
   "outputs": [],
   "source": [
    "diagnosis(df, '多媒体配置_中控屏幕尺寸')"
   ]
  },
  {
   "cell_type": "code",
   "execution_count": null,
   "metadata": {},
   "outputs": [],
   "source": [
    "def only_solid(data, col):\n",
    "    \n",
    "    one_solid = (((data[col].str.count('●')) == 1) & ~(data[col].str.contains('○')))\n",
    "    data.loc[one_solid, col + '_实心1'] = df.loc[one_solid][col].str.extract(r'(\\d+\\.?\\d*)').values\n",
    "    \n",
    "    return data"
   ]
  },
  {
   "cell_type": "code",
   "execution_count": null,
   "metadata": {},
   "outputs": [],
   "source": [
    "df = only_solid(df, '内部配置_液晶仪表尺寸')\n",
    "df = only_solid(df, '多媒体配置_中控屏幕尺寸')"
   ]
  },
  {
   "cell_type": "code",
   "execution_count": null,
   "metadata": {},
   "outputs": [],
   "source": [
    "def only_hollow(data, col):\n",
    "    \n",
    "    one_hollow = (((data[col].str.count('○')) == 1) & ~(data[col].str.contains('●')))\n",
    "    data.loc[one_hollow, col + '_空心1'] = df.loc[one_hollow][col].str.extract(r'(\\d+\\.?\\d*)').values\n",
    "    \n",
    "    return data"
   ]
  },
  {
   "cell_type": "code",
   "execution_count": null,
   "metadata": {},
   "outputs": [],
   "source": [
    "df = only_hollow(df, '内部配置_液晶仪表尺寸')\n",
    "df = only_hollow(df, '多媒体配置_中控屏幕尺寸')"
   ]
  },
  {
   "cell_type": "code",
   "execution_count": null,
   "metadata": {},
   "outputs": [],
   "source": [
    "def double_solid(data, col):\n",
    "    \n",
    "    two_solid = (((data[col].str.count('●')) == 2) & ~(data[col].str.contains('○')))\n",
    "    data.loc[two_solid, col + '_实心1'] = data.loc[two_solid][col].str.split('●', expand= True)[1].str.extract(r'(\\d+\\.?\\d*)').values\n",
    "    data.loc[two_solid, col + '_实心2'] = data.loc[two_solid][col].str.split('●', expand= True)[2].str.extract(r'(\\d+\\.?\\d*)').values\n",
    "    \n",
    "    return data"
   ]
  },
  {
   "cell_type": "code",
   "execution_count": null,
   "metadata": {},
   "outputs": [],
   "source": [
    "df = double_solid(df, '多媒体配置_中控屏幕尺寸')\n",
    "df = double_solid(df, '内部配置_液晶仪表尺寸')"
   ]
  },
  {
   "cell_type": "code",
   "execution_count": null,
   "metadata": {},
   "outputs": [],
   "source": [
    "def double_hollow(data, col):\n",
    "    \n",
    "    two_hollow = (((data[col].str.count('○')) == 2) & ~(data[col].str.contains('●')))\n",
    "    data.loc[two_hollow, col + '_空心1'] = data.loc[two_hollow][col].str.split('○', expand= True)[1].str.extract(r'(\\d+\\.?\\d*)').values\n",
    "    data.loc[two_hollow, col + '_空心2'] = data.loc[two_hollow][col].str.split('○', expand= True)[2].str.extract(r'(\\d+\\.?\\d*)').values\n",
    "    \n",
    "    return data"
   ]
  },
  {
   "cell_type": "code",
   "execution_count": null,
   "metadata": {},
   "outputs": [],
   "source": [
    "df = double_hollow(df, '多媒体配置_中控屏幕尺寸')\n",
    "# df = double_hollow(df, '内部配置_液晶仪表尺寸') # 没有双空心"
   ]
  },
  {
   "cell_type": "code",
   "execution_count": null,
   "metadata": {},
   "outputs": [],
   "source": [
    "def start_solid_end_hollow(data, col):\n",
    "    solid_hollow = ((data[col].str.startswith('●')) & (data[col].str.contains('○')))\n",
    "    data.loc[solid_hollow, col + '_实心1'] = df.loc[solid_hollow][col].str.split('○', expand= True)[0].str.extract(r'(\\d+\\.?\\d*)').values\n",
    "    data.loc[solid_hollow, col + '_空心1'] = df.loc[solid_hollow][col].str.split('○', expand= True)[1].str.extract(r'(\\d+\\.?\\d*)').values\n",
    "    \n",
    "    return data "
   ]
  },
  {
   "cell_type": "code",
   "execution_count": null,
   "metadata": {},
   "outputs": [],
   "source": [
    "df = start_solid_end_hollow(df, '多媒体配置_中控屏幕尺寸')\n",
    "df = start_solid_end_hollow(df, '内部配置_液晶仪表尺寸')"
   ]
  },
  {
   "cell_type": "code",
   "execution_count": null,
   "metadata": {},
   "outputs": [],
   "source": [
    "def start_hollow_end_solid(data, col):\n",
    "    hollow_solid = ((data[col].str.startswith('○')) & (data[col].str.contains('●')))\n",
    "    data.loc[hollow_solid, col + '_空心1'] = data.loc[hollow_solid][col].str.split('●', expand= True)[0].str.extract(r'(\\d+\\.?\\d*)').values\n",
    "    data.loc[hollow_solid, col + '_实心1'] = data.loc[hollow_solid][col].str.split('●', expand= True)[1].str.extract(r'(\\d+\\.?\\d*)').values\n",
    "    \n",
    "    return data "
   ]
  },
  {
   "cell_type": "code",
   "execution_count": null,
   "metadata": {},
   "outputs": [],
   "source": [
    "df = start_hollow_end_solid(df, '多媒体配置_中控屏幕尺寸')\n",
    "df = start_hollow_end_solid(df, '内部配置_液晶仪表尺寸')"
   ]
  },
  {
   "cell_type": "code",
   "execution_count": null,
   "metadata": {},
   "outputs": [],
   "source": [
    "def solid_with_double(data, col):\n",
    "    solid_double_hand = (data[col].str.contains('●双')) & ((data[col].str.count('●')) > 1)\n",
    "    solid_double = (df[col].str.contains('●双')) & ((df[col].str.count('●')) == 1)\n",
    "    \n",
    "    data.loc[solid_double, col + '_实心1'] = data.loc[solid_double][col].str.split('英寸', expand= True)[0].str.extract(r'(\\d+\\.?\\d*)').values\n",
    "    data.loc[solid_double, col + '_实心2'] = data.loc[solid_double][col].str.split('英寸', expand= True)[0].str.extract(r'(\\d+\\.?\\d*)').values\n",
    "    \n",
    "    data.loc[solid_double_hand, col + '_实心1'] = data.loc[solid_double_hand][col].str.split('英寸', expand= True)[0].str.extract(r'(\\d+\\.?\\d*)').values\n",
    "    data.loc[solid_double_hand, col + '_实心2'] = data.loc[solid_double_hand][col].str.split('英寸', expand= True)[1].str.extract(r'(\\d+\\.?\\d*)').values\n",
    "    data.loc[solid_double_hand, col + '_实心3'] = data.loc[solid_double_hand][col].str.split('英寸', expand= True)[1].str.extract(r'(\\d+\\.?\\d*)').values\n",
    "    \n",
    "    return data"
   ]
  },
  {
   "cell_type": "code",
   "execution_count": null,
   "metadata": {},
   "outputs": [],
   "source": [
    "df = solid_with_double(df, '内部配置_液晶仪表尺寸')\n",
    "df = solid_with_double(df, '多媒体配置_中控屏幕尺寸')"
   ]
  },
  {
   "cell_type": "code",
   "execution_count": null,
   "metadata": {},
   "outputs": [],
   "source": [
    "\n",
    "\n",
    "def hollow_with_double(data, col):\n",
    "    hollow_double = (data[col].str.contains('○双')) & ((data[col].str.count('●')) == 1)\n",
    "    \n",
    "    data.loc[hollow_double, col + '_实心1'] = data.loc[hollow_double][col].str.split('英寸', expand= True)[0].str.extract(r'(\\d+\\.?\\d*)').values\n",
    "    data.loc[hollow_double, col + '_空心1'] = data.loc[hollow_double][col].str.split('英寸', expand= True)[1].str.extract(r'(\\d+\\.?\\d*)').values\n",
    "    data.loc[hollow_double, col + '_空心2'] = data.loc[hollow_double][col].str.split('英寸', expand= True)[1].str.extract(r'(\\d+\\.?\\d*)').values\n",
    "    \n",
    "    return data\n",
    "    "
   ]
  },
  {
   "cell_type": "code",
   "execution_count": null,
   "metadata": {},
   "outputs": [],
   "source": [
    "df = hollow_with_double(df, '多媒体配置_中控屏幕尺寸')\n",
    "# df = hollow_with_double(df, '内部配置_液晶仪表尺寸') "
   ]
  },
  {
   "cell_type": "code",
   "execution_count": null,
   "metadata": {},
   "outputs": [],
   "source": [
    "# df.to_excel('res.xlsx', index= False)"
   ]
  },
  {
   "cell_type": "code",
   "execution_count": null,
   "metadata": {},
   "outputs": [],
   "source": [
    "# file_list =  df['SOURCE'].unique()\n",
    "\n",
    "# finder = 'res'\n",
    "\n",
    "\n",
    "# for file_name in file_list:\n",
    "#     res = df[df['SOURCE'] == file_name]\n",
    "#     res.to_excel(finder + '/'+ file_name + '.xlsx')"
   ]
  },
  {
   "cell_type": "code",
   "execution_count": null,
   "metadata": {},
   "outputs": [],
   "source": [
    "cols = ['多媒体配置_后排液晶屏幕_实心',\n",
    "        '内部配置_液晶仪表尺寸_实心1', '多媒体配置_中控屏幕尺寸_实心1', \n",
    "        '内部配置_液晶仪表尺寸_空心1','多媒体配置_中控屏幕尺寸_空心1', \n",
    "        '多媒体配置_中控屏幕尺寸_实心2', '内部配置_液晶仪表尺寸_实心2', \n",
    "        '多媒体配置_中控屏幕尺寸_空心2', '内部配置_液晶仪表尺寸_实心3', \n",
    "        '多媒体配置_中控屏幕尺寸_实心3']\n"
   ]
  },
  {
   "cell_type": "code",
   "execution_count": null,
   "metadata": {},
   "outputs": [],
   "source": [
    "df = df.reset_index(drop= True)\n",
    "\n",
    "df[cols] = df[cols].fillna(0)\n",
    "df[cols] = df[cols].replace('', 0)\n",
    "df[cols] = df[cols].astype(float)\n",
    "df['Number of displays'] = (df[cols] > 5).sum(axis = 1)\n",
    "df.loc[df['Number of displays'] > 0 , 'Primary display size (inch)'] = df.loc[df['Number of displays'] > 0 ][cols].max(axis =1 )"
   ]
  },
  {
   "cell_type": "code",
   "execution_count": null,
   "metadata": {},
   "outputs": [],
   "source": [
    "# # cols.append('Number of displays')\n",
    "# cols2 = ['Number of displays', 'Primary display size (inch)',\n",
    "#     '多媒体配置_后排液晶屏幕_实心',\n",
    "#         '内部配置_液晶仪表尺寸_实心1', '多媒体配置_中控屏幕尺寸_实心1', \n",
    "#         '内部配置_液晶仪表尺寸_空心1','多媒体配置_中控屏幕尺寸_空心1', \n",
    "#         '多媒体配置_中控屏幕尺寸_实心2', '内部配置_液晶仪表尺寸_实心2', \n",
    "#         '多媒体配置_中控屏幕尺寸_空心2', '内部配置_液晶仪表尺寸_实心3', \n",
    "#         '多媒体配置_中控屏幕尺寸_实心3']\n",
    "\n",
    "# df[cols2]"
   ]
  },
  {
   "cell_type": "code",
   "execution_count": null,
   "metadata": {},
   "outputs": [],
   "source": [
    "df[df['Internal reference'].str.contains('1986')]['Internal reference']"
   ]
  },
  {
   "cell_type": "code",
   "execution_count": null,
   "metadata": {},
   "outputs": [],
   "source": [
    "df['Internal reference'].str.extract(r'(\\d+款)')"
   ]
  },
  {
   "cell_type": "code",
   "execution_count": null,
   "metadata": {},
   "outputs": [],
   "source": [
    "df.columns"
   ]
  },
  {
   "cell_type": "code",
   "execution_count": null,
   "metadata": {},
   "outputs": [],
   "source": [
    "import numpy as np\n",
    "import pandas as pd\n",
    "import matplotlib.pyplot as plt\n",
    "import seaborn as sns\n",
    "\n",
    "import warnings\n",
    "warnings.filterwarnings(\"ignore\")"
   ]
  },
  {
   "cell_type": "code",
   "execution_count": null,
   "metadata": {},
   "outputs": [],
   "source": [
    "data = pd.read_excel('new_other1.xlsx')\n",
    "data.head()"
   ]
  },
  {
   "cell_type": "code",
   "execution_count": null,
   "metadata": {},
   "outputs": [],
   "source": [
    "data = data[data['Market'] == 'Singapore']\n",
    "data = data[data['Category'] == 'A']"
   ]
  },
  {
   "cell_type": "code",
   "execution_count": null,
   "metadata": {},
   "outputs": [],
   "source": [
    "data['time'] = ''\n",
    "\n",
    "data.loc[data['Quarter'] == 1, 'time'] = '01-01'\n",
    "data.loc[data['Quarter'] == 2, 'time'] = '04-01'\n",
    "data.loc[data['Quarter'] == 3, 'time'] = '07-01'\n",
    "data.loc[data['Quarter'] == 4, 'time'] = '10-01'"
   ]
  },
  {
   "cell_type": "code",
   "execution_count": null,
   "metadata": {},
   "outputs": [],
   "source": [
    "data['Year-Q'] = data['Year'].astype(str) + '-' + data['time'].astype(str)\n",
    "data['Year-Q'] = pd.to_datetime(data['Year-Q'])"
   ]
  },
  {
   "cell_type": "code",
   "execution_count": null,
   "metadata": {},
   "outputs": [],
   "source": [
    "df = data[['Year-Q', 'Units']]\n",
    "y = df.groupby(['Year-Q'])['Units'].sum().to_frame()\n",
    "# y = df.set_index('Year-Q')\n",
    "y.sort_index(inplace=True)\n",
    "y"
   ]
  },
  {
   "cell_type": "code",
   "execution_count": null,
   "metadata": {},
   "outputs": [],
   "source": [
    "y.plot(figsize=(16, 9))\n",
    "plt.show()"
   ]
  },
  {
   "cell_type": "code",
   "execution_count": null,
   "metadata": {},
   "outputs": [],
   "source": [
    "# from matplotlib import pyplot\n",
    "plt.figure( figsize= (16, 9))\n",
    "plt.figure(1)\n",
    "plt.subplot(211)\n",
    "y.Units.hist()\n",
    "plt.subplot(212)\n",
    "y.Units.plot(kind='kde')\n",
    "plt.show()"
   ]
  },
  {
   "cell_type": "code",
   "execution_count": null,
   "metadata": {},
   "outputs": [],
   "source": [
    "fig, ax = plt.subplots(figsize=(16,9))\n",
    "\n",
    "sns.boxplot(y.Units.index, y.Units, ax=ax)"
   ]
  },
  {
   "attachments": {},
   "cell_type": "markdown",
   "metadata": {},
   "source": [
    "## FBPROPHET"
   ]
  },
  {
   "cell_type": "code",
   "execution_count": null,
   "metadata": {},
   "outputs": [],
   "source": [
    "#divide into train and validation set\n",
    "train = y[:int(1*(len(y)))]\n",
    "valid = y[int(0.75*(len(y))):]\n",
    "\n",
    "#plotting the data\n",
    "train['Units'].plot()\n",
    "valid['Units'].plot()"
   ]
  },
  {
   "cell_type": "code",
   "execution_count": null,
   "metadata": {},
   "outputs": [],
   "source": [
    "train['ds'] = train.index\n",
    "train"
   ]
  },
  {
   "cell_type": "code",
   "execution_count": null,
   "metadata": {},
   "outputs": [],
   "source": [
    "# from fbprophet import Prophet\n",
    "from fbprophet import Prophet\n",
    "\n",
    "#instantiate Prophet with only yearly seasonality as our data is monthly \n",
    "\n",
    "\n",
    "# def is_nfl_season(ds):\n",
    "#     date = pd.to_datetime(ds)\n",
    "#     return (date.month == 1 or date.month < 4)\n",
    "\n",
    "# train['on_season'] = train['ds'].apply(is_nfl_season)\n",
    "# train['off_season'] = ~train['ds'].apply(is_nfl_season)\n",
    "# train"
   ]
  },
  {
   "cell_type": "code",
   "execution_count": null,
   "metadata": {},
   "outputs": [],
   "source": [
    "train_prophet = pd.DataFrame()\n",
    "train_prophet['ds'] = train.index\n",
    "train_prophet['y'] = train.Units.values\n",
    "\n",
    "# train_prophet = train[[\"ds\", 'Units', 'on_season', 'off_season']]\n",
    "# train_prophet.rename( columns= {'Units' : 'y'}, inplace= True)\n"
   ]
  },
  {
   "cell_type": "code",
   "execution_count": null,
   "metadata": {},
   "outputs": [],
   "source": [
    "model = Prophet( yearly_seasonality=5, weekly_seasonality=False, seasonality_mode = 'multiplicative', growth='logistic', holidays_prior_scale=0.05)\n",
    "\n",
    "train_prophet['cap'] = 10000000\n",
    "train_prophet['floor'] = 0\n",
    "# model = Prophet(weekly_seasonality=False)\n",
    "# model.add_seasonality(name='weekly_on_season', period=4, fourier_order=1, condition_name='on_season')\n",
    "# model.add_seasonality(name='weekly_off_season', period=4, fourier_order=1, condition_name='off_season')\n",
    "\n",
    "model.fit(train_prophet) #fit the model with your dataframe"
   ]
  },
  {
   "cell_type": "code",
   "execution_count": null,
   "metadata": {},
   "outputs": [],
   "source": [
    "# predict for five months in the furure and MS - month start is the frequency\n",
    "future = model.make_future_dataframe( periods = 4, freq = 'QS') \n",
    "future.tail()"
   ]
  },
  {
   "cell_type": "code",
   "execution_count": null,
   "metadata": {},
   "outputs": [],
   "source": [
    "# now lets make the forecasts\n",
    "# future['cap'] = 9386246\n",
    "future['cap'] = 10000000\n",
    "future['floor'] = 0\n",
    "# future['on_season'] = future['ds'].apply(is_nfl_season)\n",
    "# future['off_season'] = ~future['ds'].apply(is_nfl_season)\n",
    "forecast = model.predict(future)\n",
    "forecast[['ds', 'yhat', 'yhat_lower', 'yhat_upper']].tail()"
   ]
  },
  {
   "cell_type": "code",
   "execution_count": null,
   "metadata": {},
   "outputs": [],
   "source": [
    "fig = model.plot(forecast)\n",
    "#plot the predictions for validation set\n",
    "\n",
    "plt.plot(valid, label='Valid', color = 'red', linewidth = 2)\n",
    "\n",
    "plt.show()"
   ]
  },
  {
   "cell_type": "code",
   "execution_count": null,
   "metadata": {},
   "outputs": [],
   "source": [
    "model.plot_components(forecast)"
   ]
  },
  {
   "cell_type": "code",
   "execution_count": null,
   "metadata": {},
   "outputs": [],
   "source": [
    "y_prophet = pd.DataFrame()\n",
    "y_prophet['ds'] = y.index\n",
    "y_prophet['y'] = y.Units.values\n",
    "y_prophet = y_prophet.set_index('ds')\n"
   ]
  },
  {
   "cell_type": "code",
   "execution_count": null,
   "metadata": {},
   "outputs": [],
   "source": [
    "forecast_prophet = forecast.set_index('ds')\n",
    "forecast_prophet"
   ]
  },
  {
   "cell_type": "code",
   "execution_count": null,
   "metadata": {},
   "outputs": [],
   "source": []
  },
  {
   "cell_type": "code",
   "execution_count": null,
   "metadata": {},
   "outputs": [],
   "source": []
  },
  {
   "attachments": {},
   "cell_type": "markdown",
   "metadata": {},
   "source": [
    "## 添加ALL 行"
   ]
  },
  {
   "cell_type": "code",
   "execution_count": null,
   "metadata": {},
   "outputs": [],
   "source": [
    "import pandas as pd"
   ]
  },
  {
   "cell_type": "code",
   "execution_count": null,
   "metadata": {},
   "outputs": [],
   "source": [
    "dataA = pd.read_excel('example.xlsx', sheet_name= 'A')\n",
    "dataB = pd.read_excel('example.xlsx', sheet_name= 'B')"
   ]
  },
  {
   "cell_type": "code",
   "execution_count": null,
   "metadata": {},
   "outputs": [],
   "source": [
    "colsB = ['OEM', 'Brand', 'Vehicle classification', 'Model family', 'Type', 'Country']\n",
    "\n",
    "# for ind, val in dataB.groupby(cols)[['Country', 'Units']]:\n",
    "#     print(val)\n",
    "\n",
    "df_B = dataB.groupby(cols)[['Units']].sum().reset_index()\n",
    "# df_B.loc[ ((df_B['Type'] == 'ICE') & (df_B['Country'] == 'Canada') & (df_B['Model family'] == 'Arteon/CC') & (df_B['Vehicle classification'] == 'Car'))]\n",
    "df_B_test = df_B.loc[ ((df_B['Type'] == 'ICE') & (df_B['Model family'] == 'Arteon/CC') & (df_B['Vehicle classification'] == 'Car'))]\n",
    "df_B_test"
   ]
  },
  {
   "cell_type": "code",
   "execution_count": null,
   "metadata": {},
   "outputs": [],
   "source": [
    "# df_B_test[['Country', 'Units']].stack().to_frame()"
   ]
  },
  {
   "cell_type": "code",
   "execution_count": null,
   "metadata": {},
   "outputs": [],
   "source": []
  },
  {
   "cell_type": "code",
   "execution_count": null,
   "metadata": {},
   "outputs": [],
   "source": []
  },
  {
   "cell_type": "code",
   "execution_count": null,
   "metadata": {},
   "outputs": [],
   "source": []
  },
  {
   "cell_type": "code",
   "execution_count": null,
   "metadata": {},
   "outputs": [],
   "source": []
  },
  {
   "cell_type": "code",
   "execution_count": null,
   "metadata": {},
   "outputs": [],
   "source": []
  },
  {
   "cell_type": "code",
   "execution_count": null,
   "metadata": {},
   "outputs": [],
   "source": [
    "Countrys = df.reset_index().Country.unique()\n",
    "Countrys"
   ]
  },
  {
   "cell_type": "code",
   "execution_count": null,
   "metadata": {},
   "outputs": [],
   "source": [
    "dataA.columns"
   ]
  },
  {
   "cell_type": "code",
   "execution_count": null,
   "metadata": {},
   "outputs": [],
   "source": [
    "colsA = ['OEM', 'Brand', 'Vehicle classification', 'Type', 'Model family']\n",
    "\n",
    "valA_list = []\n",
    "for indA, valA in dataA.groupby(colsA):\n",
    "    valA_list.append(valA)"
   ]
  },
  {
   "cell_type": "code",
   "execution_count": null,
   "metadata": {},
   "outputs": [],
   "source": [
    "all_row = ['ALL', 'ALL', 'ALL', 'ALL', 'ALL']\n",
    "\n",
    "valA_list[0][colsA]"
   ]
  },
  {
   "cell_type": "code",
   "execution_count": null,
   "metadata": {},
   "outputs": [],
   "source": [
    "df_B.loc[ ((df_B['Type'] == 'BEV') & (df_B['Model family'] == 'ID.3') & (df_B['Vehicle classification'] == 'Car'))]"
   ]
  },
  {
   "cell_type": "code",
   "execution_count": null,
   "metadata": {},
   "outputs": [],
   "source": [
    "ALL_df = pd.DataFrame(data = [all_row], columns= colsA)\n",
    "ALL_df"
   ]
  },
  {
   "cell_type": "code",
   "execution_count": null,
   "metadata": {},
   "outputs": [],
   "source": [
    "Countrys = df.reset_index().Country.unique()\n",
    "Countrys"
   ]
  },
  {
   "cell_type": "code",
   "execution_count": null,
   "metadata": {},
   "outputs": [],
   "source": [
    "for c in Countrys:\n",
    "    ALL_df[c] = 0"
   ]
  },
  {
   "cell_type": "code",
   "execution_count": null,
   "metadata": {},
   "outputs": [],
   "source": [
    "ALL_df"
   ]
  },
  {
   "cell_type": "code",
   "execution_count": null,
   "metadata": {},
   "outputs": [],
   "source": [
    "df_test = df_B.loc[ ((df_B['Type'] == 'ICE') & (df_B['Model family'] == 'Amarok') & (df_B['Vehicle classification'] == 'Pickup'))]\n",
    "df_test"
   ]
  },
  {
   "cell_type": "code",
   "execution_count": null,
   "metadata": {},
   "outputs": [],
   "source": [
    "for c in df_test['Country']:\n",
    "    ALL_df[c] = df_test[ df_test['Country'] == c]['Units'].values"
   ]
  },
  {
   "cell_type": "code",
   "execution_count": null,
   "metadata": {},
   "outputs": [],
   "source": [
    "ALL_df"
   ]
  },
  {
   "cell_type": "code",
   "execution_count": null,
   "metadata": {},
   "outputs": [],
   "source": [
    "dataA_test = dataA.loc[ ((dataA['Type'] == 'ICE') & (dataA['Model family'] == 'Amarok') & (dataA['Vehicle classification'] == 'Pickup'))]\n",
    "dataA_test"
   ]
  },
  {
   "cell_type": "code",
   "execution_count": null,
   "metadata": {},
   "outputs": [],
   "source": [
    "pd.concat([ALL_df, dataA_test])"
   ]
  },
  {
   "attachments": {},
   "cell_type": "markdown",
   "metadata": {},
   "source": [
    "## 應用到全部"
   ]
  },
  {
   "cell_type": "code",
   "execution_count": null,
   "metadata": {},
   "outputs": [],
   "source": [
    "import pandas as pd"
   ]
  },
  {
   "cell_type": "code",
   "execution_count": null,
   "metadata": {},
   "outputs": [],
   "source": [
    "dataA = pd.read_excel('example.xlsx', sheet_name= 'A')\n",
    "dataB = pd.read_excel('example.xlsx', sheet_name= 'B')"
   ]
  },
  {
   "cell_type": "code",
   "execution_count": null,
   "metadata": {},
   "outputs": [],
   "source": [
    "colsA = ['OEM', 'Brand', 'Vehicle classification', 'Type', 'Model family']\n",
    "colsB = ['OEM', 'Brand', 'Vehicle classification', 'Model family', 'Type', 'Country']"
   ]
  },
  {
   "cell_type": "code",
   "execution_count": null,
   "metadata": {},
   "outputs": [],
   "source": [
    "all_row = ['ALL', 'ALL', 'ALL', 'ALL', 'ALL']\n",
    "ALL_df = pd.DataFrame(data = [all_row], columns= colsA)\n",
    "\n",
    "df_B = dataB.groupby(colsB)[['Units']].sum()\n",
    "Countrys = df_B.reset_index().Country.unique()\n",
    "\n",
    "for c in Countrys:\n",
    "    ALL_df[c] = 0\n",
    "    \n",
    "ALL_df"
   ]
  },
  {
   "cell_type": "code",
   "execution_count": null,
   "metadata": {},
   "outputs": [],
   "source": [
    "nan_row = pd.DataFrame([['', '', '', '', '', \n",
    "                        '', '', '', '', '', \n",
    "                        '', '', '', '', '', \n",
    "                        '', '', '', '', '', \n",
    "                        ]], columns = ALL_df.columns)\n",
    "\n",
    "nan_row"
   ]
  },
  {
   "cell_type": "code",
   "execution_count": null,
   "metadata": {},
   "outputs": [],
   "source": [
    "df_B = dataB.groupby(colsB)[['Units']].sum().reset_index()\n",
    "\n",
    "res_list = []\n",
    "\n",
    "for indA, valA in dataA.groupby(colsA):\n",
    "    \n",
    "    df_B_tmp = df_B.loc[ ((df_B['Type'] == indA[3]) & (df_B['Model family'] == indA[4]) & (df_B['Vehicle classification'] == indA[2]))]\n",
    "    dataA_tmp = dataA.loc[ ((dataA['Type'] == indA[3]) & (dataA['Model family'] == indA[4]) & (dataA['Vehicle classification'] == indA[2]))]\n",
    "    \n",
    "    for c in df_B_tmp['Country']:\n",
    "        ALL_df[c] = df_B_tmp[ df_B_tmp['Country'] == c]['Units'].values\n",
    "        res = pd.concat([ALL_df, dataA_tmp, nan_row])\n",
    "        \n",
    "    res_list.append(res)"
   ]
  },
  {
   "cell_type": "code",
   "execution_count": null,
   "metadata": {},
   "outputs": [],
   "source": [
    "fin = pd.concat(res_list).reset_index( drop = True)\n",
    "fin = fin[dataA.columns]\n",
    "fin.to_excel('fin.xlsx', index = False)"
   ]
  },
  {
   "cell_type": "code",
   "execution_count": null,
   "metadata": {},
   "outputs": [],
   "source": []
  },
  {
   "cell_type": "code",
   "execution_count": null,
   "metadata": {},
   "outputs": [],
   "source": [
    "import pandas as pd\n",
    "import numpy as np"
   ]
  },
  {
   "cell_type": "code",
   "execution_count": null,
   "metadata": {},
   "outputs": [],
   "source": [
    "df1 = pd.read_excel('df1_test1(1).xlsx', header= [0, 1])\n",
    "df1.head()"
   ]
  },
  {
   "cell_type": "code",
   "execution_count": null,
   "metadata": {},
   "outputs": [],
   "source": [
    "# df1.columns"
   ]
  },
  {
   "cell_type": "code",
   "execution_count": null,
   "metadata": {},
   "outputs": [],
   "source": [
    "df2 = pd.read_excel('vk_spec1(1).xlsx', header= [0, 1])\n",
    "df2.head()"
   ]
  },
  {
   "cell_type": "code",
   "execution_count": null,
   "metadata": {},
   "outputs": [],
   "source": [
    "res = pd.read_excel('auto_s.xlsx', header= [0, 1])\n",
    "res.head()"
   ]
  },
  {
   "cell_type": "code",
   "execution_count": null,
   "metadata": {},
   "outputs": [],
   "source": [
    "fin = pd.concat([df2, df1.drop([('Unnamed: 0_level_0', 'Unnamed: 0_level_1')], axis = 1)], axis = 1)\n",
    "fin"
   ]
  },
  {
   "cell_type": "code",
   "execution_count": null,
   "metadata": {},
   "outputs": [],
   "source": [
    "# fin.to_excel('res.xlsx')"
   ]
  },
  {
   "cell_type": "code",
   "execution_count": null,
   "metadata": {},
   "outputs": [],
   "source": [
    "fin.columns[:4]"
   ]
  },
  {
   "cell_type": "code",
   "execution_count": null,
   "metadata": {},
   "outputs": [],
   "source": [
    "# df = pd.DataFrame([[1,2,3], [10,20,30], [100,200,300]])\n",
    "# df.columns = pd.MultiIndex.from_tuples(((\"a\", \"b\"), (\"a\", \"c\"), (\"d\", \"f\")))\n",
    "# df"
   ]
  },
  {
   "cell_type": "code",
   "execution_count": null,
   "metadata": {},
   "outputs": [],
   "source": [
    "# df.columns.levels[1]"
   ]
  },
  {
   "cell_type": "code",
   "execution_count": null,
   "metadata": {},
   "outputs": [],
   "source": [
    "# fin.columns"
   ]
  },
  {
   "cell_type": "code",
   "execution_count": null,
   "metadata": {},
   "outputs": [],
   "source": [
    "# fin.loc[0] = {\n",
    "#   fin.columns[0] : fin.columns[0][1],\n",
    "#   fin.columns[1] : fin.columns[1][1],\n",
    "#   fin.columns[2] : fin.columns[2][1],\n",
    "#   fin.columns[3] : fin.columns[3][1],\n",
    "# }"
   ]
  },
  {
   "cell_type": "code",
   "execution_count": null,
   "metadata": {},
   "outputs": [],
   "source": [
    "fin.columns[3]"
   ]
  },
  {
   "cell_type": "code",
   "execution_count": null,
   "metadata": {},
   "outputs": [],
   "source": [
    "# fin.columns = pd.MultiIndex.from_tuples(fin.set_axis(fin.columns.values, axis=1).rename(columns={\n",
    "#    ('OEM', 'Volkswagen Group'): ('OEM', ''),\n",
    "#    ('Brand','Volkswagen'): ('Brand',''),\n",
    "#    ('Vehicle classification', 'Car') : ('Vehicle classification', ''),\n",
    "#    ('Model family', 'Arteon/CC') : ('Model family', '')\n",
    "#   }))\n",
    "\n"
   ]
  },
  {
   "cell_type": "code",
   "execution_count": null,
   "metadata": {},
   "outputs": [],
   "source": [
    "l1 = [fin.columns[0][1], fin.columns[1][1], fin.columns[2][1], fin.columns[3][1]]\n",
    "\n",
    "for _ in range(64):\n",
    "  l1.append(np.NAN)\n",
    "  \n",
    "df = pd.DataFrame(np.insert(fin.values, 0, values= l1, axis=0))\n",
    "df.head()"
   ]
  },
  {
   "cell_type": "code",
   "execution_count": null,
   "metadata": {},
   "outputs": [],
   "source": [
    "fin.columns = pd.MultiIndex.from_tuples(fin.set_axis(fin.columns.values, axis=1).rename(columns={\n",
    "   (fin.columns[0][0], fin.columns[0][1]): (fin.columns[0][0], 'ALL'),\n",
    "   (fin.columns[1][0], fin.columns[1][1]): (fin.columns[1][0], ''),\n",
    "   (fin.columns[2][0], fin.columns[2][1]): (fin.columns[2][0], ''),\n",
    "   (fin.columns[3][0], fin.columns[3][1]): (fin.columns[3][0], ''),\n",
    "\n",
    "  }))"
   ]
  },
  {
   "cell_type": "code",
   "execution_count": null,
   "metadata": {},
   "outputs": [],
   "source": [
    "df.columns = fin.columns\n",
    "df.head()"
   ]
  },
  {
   "cell_type": "code",
   "execution_count": null,
   "metadata": {},
   "outputs": [],
   "source": [
    "df.loc[0].to_frame()"
   ]
  },
  {
   "cell_type": "code",
   "execution_count": null,
   "metadata": {},
   "outputs": [],
   "source": [
    "df.to_excel('res.xlsx', index= True)"
   ]
  },
  {
   "cell_type": "code",
   "execution_count": null,
   "metadata": {},
   "outputs": [],
   "source": [
    "import pandas as pd\n",
    "import numpy as np "
   ]
  },
  {
   "cell_type": "code",
   "execution_count": null,
   "metadata": {},
   "outputs": [],
   "source": [
    "data = pd.read_excel('12345(1).xlsx')\n",
    "data.head()"
   ]
  },
  {
   "attachments": {},
   "cell_type": "markdown",
   "metadata": {},
   "source": [
    "## 不當人的任務"
   ]
  },
  {
   "cell_type": "code",
   "execution_count": 46,
   "metadata": {},
   "outputs": [],
   "source": [
    "import pandas as pd\n",
    "import numpy as np\n",
    "\n",
    "df1 = pd.read_excel('DATA/df1_test1(1).xlsx', header= [0, 1])\n",
    "df2 = pd.read_excel('DATA/vk_spec1(1).xlsx', header= [0, 1])\n",
    "fin = pd.concat([df2, df1.drop([('Unnamed: 0_level_0', 'Unnamed: 0_level_1')], axis = 1)], axis = 1)\n",
    "\n",
    "l1 = [fin.columns[0][1], fin.columns[1][1], fin.columns[2][1], fin.columns[3][1]]\n",
    "\n",
    "for _ in range(64):\n",
    "  l1.append(np.NAN)\n",
    "\n",
    "fin.columns = pd.MultiIndex.from_tuples(fin.set_axis(fin.columns.values, axis=1).rename(columns={\n",
    "   (fin.columns[0][0], fin.columns[0][1]): (fin.columns[0][0], ''),\n",
    "   (fin.columns[1][0], fin.columns[1][1]): (fin.columns[1][0], ''),\n",
    "   (fin.columns[2][0], fin.columns[2][1]): (fin.columns[2][0], ''),\n",
    "   (fin.columns[3][0], fin.columns[3][1]): (fin.columns[3][0], 'All'),\n",
    "  }))\n",
    "\n",
    "df = pd.DataFrame(np.insert(fin.values, 0, values= l1, axis=0))\n",
    "df.columns = fin.columns\n",
    "\n",
    "# 准备素材\n",
    "# null_list = []\n",
    "# for _ in range(df.shape[1]):\n",
    "#   null_list.append(np.NAN)\n",
    "\n",
    "null_list = [np.NAN for _ in range(df.shape[1])]\n",
    "null_row = pd.DataFrame(data = [null_list], columns= df.columns)\n",
    "all_list = [i[1] for i in fin.columns]\n",
    "\n",
    "all_row = pd.DataFrame(data = [all_list], columns= df.columns)\n",
    "merge_row =  pd.concat([null_row, all_row], axis = 0)\n",
    "\n",
    "# tmp_list = []\n",
    "# for ind, val in df.groupby( ('Vehicle classification', '')):\n",
    "#   tmp = pd.concat([merge_row, val], axis = 0)\n",
    "#   tmp_list.append(tmp)\n",
    "\n",
    "tmp_list = [pd.concat([merge_row, val], axis = 0) for ind, val in df.groupby( ('Vehicle classification', ''))]   \n",
    "df = pd.concat(tmp_list, axis= 0, ignore_index = True)\n",
    "df.drop(index= [0, 1], axis=0, inplace= True)\n",
    "df.to_excel('res.xlsx', engine='openpyxl')\n",
    "# df.head(20)"
   ]
  },
  {
   "cell_type": "code",
   "execution_count": 51,
   "metadata": {},
   "outputs": [],
   "source": [
    "from openpyxl.utils import get_column_letter\n",
    "from openpyxl import load_workbook, Workbook\n",
    "from openpyxl.formatting.rule import DataBarRule\n",
    "\n",
    "# writer = pd.ExcelWriter('1234567.xlsx', engine='openpyxl')\n",
    "writer = pd.ExcelWriter('res.xlsx', engine='openpyxl')\n",
    "df.to_excel(writer, sheet_name='Sheet1')\n",
    "\n",
    "workbook = writer.book\n",
    "worksheet = writer.sheets['Sheet1']\n",
    "\n",
    "row_counts = df.shape[0]\n",
    "col_counts = df.shape[1] -4\n",
    "# nan_ind = df[df[('Vehicle classification', '')].str.contains('All', na= True)].index \n",
    "nan_ind = df[df[('Model family', 'All')].str.contains('All', na= True)].index \n",
    "\n",
    "for r in range(row_counts):\n",
    "  for c in range(col_counts):\n",
    "    worksheet.cell(row = r + 4,column = c + 5).number_format = '0.00%'\n",
    "\n",
    "letter_list = [ get_column_letter(k[0] + 2) for  k in enumerate(df.columns) if k[1][1] == 'ICE']\n",
    "BEV_letter_list = [get_column_letter(k[0] + 2) for  k in enumerate(df.columns) if k[1][1] == 'BEV']\n",
    "Others_letter_list = [get_column_letter(k[0] + 2) for  k in enumerate(df.columns) if k[1][1] == 'Others']\n",
    "\n",
    "# # letter_list = []\n",
    "# BEV_letter_list = []\n",
    "# Others_letter_list = []\n",
    "\n",
    "# for k in enumerate(df.columns):\n",
    "#   if k[1][1] == 'ICE':\n",
    "    \n",
    "#     ind = k[0] + 2\n",
    "#     letter_list.append(get_column_letter(ind))\n",
    "    \n",
    "#   elif k[1][1] == 'BEV':\n",
    "    \n",
    "#     ind = k[0] + 2\n",
    "#     BEV_letter_list.append(get_column_letter(ind))\n",
    "        \n",
    "#   elif k[1][1] == 'Others':\n",
    "    \n",
    "#     ind = k[0] + 2\n",
    "#     Others_letter_list.append(get_column_letter(ind))    \n",
    "\n",
    "for letter, bev, others in zip(letter_list, BEV_letter_list, Others_letter_list):\n",
    "  for i in range(row_counts):\n",
    "    if i + 2 not in nan_ind:\n",
    "      cell = letter + str(i+4)\n",
    "      formula = '=1-SUM(%s%s:%s%s)' %(bev, str(i+4), others, str(i+4))\n",
    "      worksheet[cell] = formula\n",
    "      \n",
    "writer.save()"
   ]
  },
  {
   "cell_type": "code",
   "execution_count": 52,
   "metadata": {},
   "outputs": [],
   "source": [
    "# 修改顏色\n",
    "# TODO: 把 bev phev others 也加上进度条\n",
    "# 把数量配置为表格的行数\n",
    "\n",
    "from openpyxl import load_workbook\n",
    "from openpyxl.formatting.rule import DataBarRule\n",
    "from openpyxl.styles import colors \n",
    "\n",
    "workbook = load_workbook(filename=\"res.xlsx\")\n",
    "sheet = workbook.active \n",
    "\n",
    "def make_color( type, color ):\n",
    "  \n",
    "  other_list = []\n",
    "  for k in enumerate(df.columns):\n",
    "    if k[1][1] == type:\n",
    "      ind = k[0] + 2\n",
    "      other_list.append(get_column_letter(ind))\n",
    "      \n",
    "  rule = DataBarRule(start_type='num', \n",
    "                   start_value=0, \n",
    "                   end_type='num', \n",
    "                   end_value=1, \n",
    "                   color= color)\n",
    "      \n",
    "  for letter in other_list:\n",
    "    sheet.conditional_formatting.add(\"%s2:%s30\" %(letter, letter), rule)\n",
    "  \n",
    "make_color( 'ICE', '00FF00' )\n",
    "make_color( 'PHEV', '66FFE6' )\n",
    "make_color( 'BEV', '5C50E6' )\n",
    "make_color( 'Others', 'CC0080' )\n",
    "\n",
    "workbook.save('wb2g.xlsx') "
   ]
  },
  {
   "cell_type": "code",
   "execution_count": null,
   "metadata": {},
   "outputs": [],
   "source": []
  }
 ],
 "metadata": {
  "kernelspec": {
   "display_name": "Python 3 (ipykernel)",
   "language": "python",
   "name": "python3"
  },
  "language_info": {
   "codemirror_mode": {
    "name": "ipython",
    "version": 3
   },
   "file_extension": ".py",
   "mimetype": "text/x-python",
   "name": "python",
   "nbconvert_exporter": "python",
   "pygments_lexer": "ipython3",
   "version": "3.7.16"
  },
  "vscode": {
   "interpreter": {
    "hash": "b0434f7d40af6f1ae47901b08a77305924291e47ef5b554f3460472bcd1f7668"
   }
  }
 },
 "nbformat": 4,
 "nbformat_minor": 4
}
